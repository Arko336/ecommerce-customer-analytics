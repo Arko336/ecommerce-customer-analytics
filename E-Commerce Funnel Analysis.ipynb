{
 "cells": [
  {
   "cell_type": "code",
   "execution_count": 1,
   "id": "1662b333",
   "metadata": {
    "scrolled": true
   },
   "outputs": [
    {
     "name": "stdout",
     "output_type": "stream",
     "text": [
      "Loaded chunk shape: (1000000, 9)\n"
     ]
    },
    {
     "data": {
      "text/html": [
       "<div>\n",
       "<style scoped>\n",
       "    .dataframe tbody tr th:only-of-type {\n",
       "        vertical-align: middle;\n",
       "    }\n",
       "\n",
       "    .dataframe tbody tr th {\n",
       "        vertical-align: top;\n",
       "    }\n",
       "\n",
       "    .dataframe thead th {\n",
       "        text-align: right;\n",
       "    }\n",
       "</style>\n",
       "<table border=\"1\" class=\"dataframe\">\n",
       "  <thead>\n",
       "    <tr style=\"text-align: right;\">\n",
       "      <th></th>\n",
       "      <th>event_time</th>\n",
       "      <th>event_type</th>\n",
       "      <th>product_id</th>\n",
       "      <th>category_id</th>\n",
       "      <th>category_code</th>\n",
       "      <th>brand</th>\n",
       "      <th>price</th>\n",
       "      <th>user_id</th>\n",
       "      <th>user_session</th>\n",
       "    </tr>\n",
       "  </thead>\n",
       "  <tbody>\n",
       "    <tr>\n",
       "      <th>0</th>\n",
       "      <td>2019-11-01 00:00:00 UTC</td>\n",
       "      <td>view</td>\n",
       "      <td>1003461</td>\n",
       "      <td>2053013555631882655</td>\n",
       "      <td>electronics.smartphone</td>\n",
       "      <td>xiaomi</td>\n",
       "      <td>489.07</td>\n",
       "      <td>520088904</td>\n",
       "      <td>4d3b30da-a5e4-49df-b1a8-ba5943f1dd33</td>\n",
       "    </tr>\n",
       "    <tr>\n",
       "      <th>1</th>\n",
       "      <td>2019-11-01 00:00:00 UTC</td>\n",
       "      <td>view</td>\n",
       "      <td>5000088</td>\n",
       "      <td>2053013566100866035</td>\n",
       "      <td>appliances.sewing_machine</td>\n",
       "      <td>janome</td>\n",
       "      <td>293.65</td>\n",
       "      <td>530496790</td>\n",
       "      <td>8e5f4f83-366c-4f70-860e-ca7417414283</td>\n",
       "    </tr>\n",
       "    <tr>\n",
       "      <th>2</th>\n",
       "      <td>2019-11-01 00:00:01 UTC</td>\n",
       "      <td>view</td>\n",
       "      <td>17302664</td>\n",
       "      <td>2053013553853497655</td>\n",
       "      <td>NaN</td>\n",
       "      <td>creed</td>\n",
       "      <td>28.31</td>\n",
       "      <td>561587266</td>\n",
       "      <td>755422e7-9040-477b-9bd2-6a6e8fd97387</td>\n",
       "    </tr>\n",
       "    <tr>\n",
       "      <th>3</th>\n",
       "      <td>2019-11-01 00:00:01 UTC</td>\n",
       "      <td>view</td>\n",
       "      <td>3601530</td>\n",
       "      <td>2053013563810775923</td>\n",
       "      <td>appliances.kitchen.washer</td>\n",
       "      <td>lg</td>\n",
       "      <td>712.87</td>\n",
       "      <td>518085591</td>\n",
       "      <td>3bfb58cd-7892-48cc-8020-2f17e6de6e7f</td>\n",
       "    </tr>\n",
       "    <tr>\n",
       "      <th>4</th>\n",
       "      <td>2019-11-01 00:00:01 UTC</td>\n",
       "      <td>view</td>\n",
       "      <td>1004775</td>\n",
       "      <td>2053013555631882655</td>\n",
       "      <td>electronics.smartphone</td>\n",
       "      <td>xiaomi</td>\n",
       "      <td>183.27</td>\n",
       "      <td>558856683</td>\n",
       "      <td>313628f1-68b8-460d-84f6-cec7a8796ef2</td>\n",
       "    </tr>\n",
       "  </tbody>\n",
       "</table>\n",
       "</div>"
      ],
      "text/plain": [
       "                event_time event_type  product_id          category_id  \\\n",
       "0  2019-11-01 00:00:00 UTC       view     1003461  2053013555631882655   \n",
       "1  2019-11-01 00:00:00 UTC       view     5000088  2053013566100866035   \n",
       "2  2019-11-01 00:00:01 UTC       view    17302664  2053013553853497655   \n",
       "3  2019-11-01 00:00:01 UTC       view     3601530  2053013563810775923   \n",
       "4  2019-11-01 00:00:01 UTC       view     1004775  2053013555631882655   \n",
       "\n",
       "               category_code   brand   price    user_id  \\\n",
       "0     electronics.smartphone  xiaomi  489.07  520088904   \n",
       "1  appliances.sewing_machine  janome  293.65  530496790   \n",
       "2                        NaN   creed   28.31  561587266   \n",
       "3  appliances.kitchen.washer      lg  712.87  518085591   \n",
       "4     electronics.smartphone  xiaomi  183.27  558856683   \n",
       "\n",
       "                           user_session  \n",
       "0  4d3b30da-a5e4-49df-b1a8-ba5943f1dd33  \n",
       "1  8e5f4f83-366c-4f70-860e-ca7417414283  \n",
       "2  755422e7-9040-477b-9bd2-6a6e8fd97387  \n",
       "3  3bfb58cd-7892-48cc-8020-2f17e6de6e7f  \n",
       "4  313628f1-68b8-460d-84f6-cec7a8796ef2  "
      ]
     },
     "execution_count": 1,
     "metadata": {},
     "output_type": "execute_result"
    }
   ],
   "source": [
    "import pandas as pd\n",
    "\n",
    "# Load just the first 1 million rows in chunks\n",
    "chunk_size = 1000000\n",
    "chunks = pd.read_csv(\"2019-Nov.csv\", chunksize=chunk_size)\n",
    "\n",
    "# Combine the first chunk only (for now)\n",
    "df = next(chunks)\n",
    "print(\"Loaded chunk shape:\", df.shape)\n",
    "df.head()\n"
   ]
  },
  {
   "cell_type": "code",
   "execution_count": 2,
   "id": "6472f603",
   "metadata": {},
   "outputs": [
    {
     "data": {
      "text/plain": [
       "event_time        object\n",
       "event_type        object\n",
       "product_id         int64\n",
       "category_id        int64\n",
       "category_code     object\n",
       "brand             object\n",
       "price            float64\n",
       "user_id            int64\n",
       "user_session      object\n",
       "dtype: object"
      ]
     },
     "execution_count": 2,
     "metadata": {},
     "output_type": "execute_result"
    }
   ],
   "source": [
    "df.dtypes"
   ]
  },
  {
   "cell_type": "code",
   "execution_count": 3,
   "id": "3101982f",
   "metadata": {},
   "outputs": [
    {
     "name": "stdout",
     "output_type": "stream",
     "text": [
      "Event Types:\n",
      " view        967225\n",
      "purchase     17817\n",
      "cart         14958\n",
      "Name: event_type, dtype: int64\n"
     ]
    }
   ],
   "source": [
    "# Convert event_time to datetime\n",
    "df['event_time'] = pd.to_datetime(df['event_time'])\n",
    "\n",
    "# Create new time-based columns\n",
    "df['date'] = df['event_time'].dt.date\n",
    "df['hour'] = df['event_time'].dt.hour\n",
    "df['day_of_week'] = df['event_time'].dt.day_name()\n",
    "\n",
    "# Check event types\n",
    "print(\"Event Types:\\n\", df['event_type'].value_counts())\n"
   ]
  },
  {
   "cell_type": "code",
   "execution_count": 4,
   "id": "7527b49f",
   "metadata": {},
   "outputs": [
    {
     "data": {
      "text/plain": [
       "event_time            0\n",
       "event_type            0\n",
       "product_id            0\n",
       "category_id           0\n",
       "category_code    316977\n",
       "brand            147197\n",
       "price                 0\n",
       "user_id               0\n",
       "user_session          0\n",
       "date                  0\n",
       "hour                  0\n",
       "day_of_week           0\n",
       "dtype: int64"
      ]
     },
     "execution_count": 4,
     "metadata": {},
     "output_type": "execute_result"
    }
   ],
   "source": [
    "df.isnull().sum()"
   ]
  },
  {
   "cell_type": "code",
   "execution_count": 5,
   "id": "c458f1a8",
   "metadata": {},
   "outputs": [
    {
     "data": {
      "text/plain": [
       "electronics.smartphone           270434\n",
       "electronics.video.tv              29459\n",
       "electronics.clocks                29356\n",
       "computers.notebook                28166\n",
       "electronics.audio.headphone       27438\n",
       "                                  ...  \n",
       "construction.tools.soldering         45\n",
       "apparel.shorts                       19\n",
       "country_yard.furniture.hammok        17\n",
       "apparel.shoes.espadrilles            15\n",
       "apparel.shoes.step_ins               15\n",
       "Name: category_code, Length: 123, dtype: int64"
      ]
     },
     "execution_count": 5,
     "metadata": {},
     "output_type": "execute_result"
    }
   ],
   "source": [
    "df['category_code'].value_counts()\n"
   ]
  },
  {
   "cell_type": "code",
   "execution_count": 6,
   "id": "572fb44c",
   "metadata": {},
   "outputs": [
    {
     "name": "stdout",
     "output_type": "stream",
     "text": [
      "category_code\n",
      "computers.notebook              617.75\n",
      "electronics.camera.photo        591.78\n",
      "furniture.living_room.sofa      545.45\n",
      "electronics.video.projector     438.41\n",
      "computers.desktop               422.02\n",
      "                                 ...  \n",
      "appliances.personal.scales       12.84\n",
      "kids.fmcg.diapers                12.36\n",
      "construction.tools.soldering     12.14\n",
      "apparel.shorts                   11.81\n",
      "stationery.cartrige              11.71\n",
      "Name: price, Length: 123, dtype: float64\n"
     ]
    }
   ],
   "source": [
    "category_price_median = df.groupby('category_code')['price'].median().sort_values(ascending=False)\n",
    "print(category_price_median)\n"
   ]
  },
  {
   "cell_type": "code",
   "execution_count": 7,
   "id": "9cb43cc4",
   "metadata": {
    "scrolled": true
   },
   "outputs": [
    {
     "ename": "ValueError",
     "evalue": "Columns must be same length as key",
     "output_type": "error",
     "traceback": [
      "\u001b[1;31m---------------------------------------------------------------------------\u001b[0m",
      "\u001b[1;31mValueError\u001b[0m                                Traceback (most recent call last)",
      "\u001b[1;32m~\\AppData\\Local\\Temp\\ipykernel_12012\\1394294489.py\u001b[0m in \u001b[0;36m<module>\u001b[1;34m\u001b[0m\n\u001b[0;32m      3\u001b[0m \u001b[1;33m\u001b[0m\u001b[0m\n\u001b[0;32m      4\u001b[0m \u001b[1;31m# Then split into 3 new columns\u001b[0m\u001b[1;33m\u001b[0m\u001b[1;33m\u001b[0m\u001b[0m\n\u001b[1;32m----> 5\u001b[1;33m \u001b[0mdf\u001b[0m\u001b[1;33m[\u001b[0m\u001b[1;33m[\u001b[0m\u001b[1;34m'main_category'\u001b[0m\u001b[1;33m,\u001b[0m \u001b[1;34m'sub_category'\u001b[0m\u001b[1;33m,\u001b[0m \u001b[1;34m'product_type'\u001b[0m\u001b[1;33m]\u001b[0m\u001b[1;33m]\u001b[0m \u001b[1;33m=\u001b[0m \u001b[0mdf\u001b[0m\u001b[1;33m[\u001b[0m\u001b[1;34m'category_code'\u001b[0m\u001b[1;33m]\u001b[0m\u001b[1;33m.\u001b[0m\u001b[0mstr\u001b[0m\u001b[1;33m.\u001b[0m\u001b[0msplit\u001b[0m\u001b[1;33m(\u001b[0m\u001b[1;34m'.'\u001b[0m\u001b[1;33m,\u001b[0m \u001b[0mexpand\u001b[0m\u001b[1;33m=\u001b[0m\u001b[1;32mTrue\u001b[0m\u001b[1;33m)\u001b[0m\u001b[1;33m\u001b[0m\u001b[1;33m\u001b[0m\u001b[0m\n\u001b[0m\u001b[0;32m      6\u001b[0m \u001b[1;33m\u001b[0m\u001b[0m\n\u001b[0;32m      7\u001b[0m \u001b[1;31m# If any category has fewer than 3 levels, fill with \"Unknown\"\u001b[0m\u001b[1;33m\u001b[0m\u001b[1;33m\u001b[0m\u001b[0m\n",
      "\u001b[1;32m~\\anaconda3\\lib\\site-packages\\pandas\\core\\frame.py\u001b[0m in \u001b[0;36m__setitem__\u001b[1;34m(self, key, value)\u001b[0m\n\u001b[0;32m   3641\u001b[0m             \u001b[0mself\u001b[0m\u001b[1;33m.\u001b[0m\u001b[0m_setitem_frame\u001b[0m\u001b[1;33m(\u001b[0m\u001b[0mkey\u001b[0m\u001b[1;33m,\u001b[0m \u001b[0mvalue\u001b[0m\u001b[1;33m)\u001b[0m\u001b[1;33m\u001b[0m\u001b[1;33m\u001b[0m\u001b[0m\n\u001b[0;32m   3642\u001b[0m         \u001b[1;32melif\u001b[0m \u001b[0misinstance\u001b[0m\u001b[1;33m(\u001b[0m\u001b[0mkey\u001b[0m\u001b[1;33m,\u001b[0m \u001b[1;33m(\u001b[0m\u001b[0mSeries\u001b[0m\u001b[1;33m,\u001b[0m \u001b[0mnp\u001b[0m\u001b[1;33m.\u001b[0m\u001b[0mndarray\u001b[0m\u001b[1;33m,\u001b[0m \u001b[0mlist\u001b[0m\u001b[1;33m,\u001b[0m \u001b[0mIndex\u001b[0m\u001b[1;33m)\u001b[0m\u001b[1;33m)\u001b[0m\u001b[1;33m:\u001b[0m\u001b[1;33m\u001b[0m\u001b[1;33m\u001b[0m\u001b[0m\n\u001b[1;32m-> 3643\u001b[1;33m             \u001b[0mself\u001b[0m\u001b[1;33m.\u001b[0m\u001b[0m_setitem_array\u001b[0m\u001b[1;33m(\u001b[0m\u001b[0mkey\u001b[0m\u001b[1;33m,\u001b[0m \u001b[0mvalue\u001b[0m\u001b[1;33m)\u001b[0m\u001b[1;33m\u001b[0m\u001b[1;33m\u001b[0m\u001b[0m\n\u001b[0m\u001b[0;32m   3644\u001b[0m         \u001b[1;32melif\u001b[0m \u001b[0misinstance\u001b[0m\u001b[1;33m(\u001b[0m\u001b[0mvalue\u001b[0m\u001b[1;33m,\u001b[0m \u001b[0mDataFrame\u001b[0m\u001b[1;33m)\u001b[0m\u001b[1;33m:\u001b[0m\u001b[1;33m\u001b[0m\u001b[1;33m\u001b[0m\u001b[0m\n\u001b[0;32m   3645\u001b[0m             \u001b[0mself\u001b[0m\u001b[1;33m.\u001b[0m\u001b[0m_set_item_frame_value\u001b[0m\u001b[1;33m(\u001b[0m\u001b[0mkey\u001b[0m\u001b[1;33m,\u001b[0m \u001b[0mvalue\u001b[0m\u001b[1;33m)\u001b[0m\u001b[1;33m\u001b[0m\u001b[1;33m\u001b[0m\u001b[0m\n",
      "\u001b[1;32m~\\anaconda3\\lib\\site-packages\\pandas\\core\\frame.py\u001b[0m in \u001b[0;36m_setitem_array\u001b[1;34m(self, key, value)\u001b[0m\n\u001b[0;32m   3683\u001b[0m \u001b[1;33m\u001b[0m\u001b[0m\n\u001b[0;32m   3684\u001b[0m             \u001b[1;32mif\u001b[0m \u001b[0misinstance\u001b[0m\u001b[1;33m(\u001b[0m\u001b[0mvalue\u001b[0m\u001b[1;33m,\u001b[0m \u001b[0mDataFrame\u001b[0m\u001b[1;33m)\u001b[0m\u001b[1;33m:\u001b[0m\u001b[1;33m\u001b[0m\u001b[1;33m\u001b[0m\u001b[0m\n\u001b[1;32m-> 3685\u001b[1;33m                 \u001b[0mcheck_key_length\u001b[0m\u001b[1;33m(\u001b[0m\u001b[0mself\u001b[0m\u001b[1;33m.\u001b[0m\u001b[0mcolumns\u001b[0m\u001b[1;33m,\u001b[0m \u001b[0mkey\u001b[0m\u001b[1;33m,\u001b[0m \u001b[0mvalue\u001b[0m\u001b[1;33m)\u001b[0m\u001b[1;33m\u001b[0m\u001b[1;33m\u001b[0m\u001b[0m\n\u001b[0m\u001b[0;32m   3686\u001b[0m                 \u001b[1;32mfor\u001b[0m \u001b[0mk1\u001b[0m\u001b[1;33m,\u001b[0m \u001b[0mk2\u001b[0m \u001b[1;32min\u001b[0m \u001b[0mzip\u001b[0m\u001b[1;33m(\u001b[0m\u001b[0mkey\u001b[0m\u001b[1;33m,\u001b[0m \u001b[0mvalue\u001b[0m\u001b[1;33m.\u001b[0m\u001b[0mcolumns\u001b[0m\u001b[1;33m)\u001b[0m\u001b[1;33m:\u001b[0m\u001b[1;33m\u001b[0m\u001b[1;33m\u001b[0m\u001b[0m\n\u001b[0;32m   3687\u001b[0m                     \u001b[0mself\u001b[0m\u001b[1;33m[\u001b[0m\u001b[0mk1\u001b[0m\u001b[1;33m]\u001b[0m \u001b[1;33m=\u001b[0m \u001b[0mvalue\u001b[0m\u001b[1;33m[\u001b[0m\u001b[0mk2\u001b[0m\u001b[1;33m]\u001b[0m\u001b[1;33m\u001b[0m\u001b[1;33m\u001b[0m\u001b[0m\n",
      "\u001b[1;32m~\\anaconda3\\lib\\site-packages\\pandas\\core\\indexers\\utils.py\u001b[0m in \u001b[0;36mcheck_key_length\u001b[1;34m(columns, key, value)\u001b[0m\n\u001b[0;32m    426\u001b[0m     \u001b[1;32mif\u001b[0m \u001b[0mcolumns\u001b[0m\u001b[1;33m.\u001b[0m\u001b[0mis_unique\u001b[0m\u001b[1;33m:\u001b[0m\u001b[1;33m\u001b[0m\u001b[1;33m\u001b[0m\u001b[0m\n\u001b[0;32m    427\u001b[0m         \u001b[1;32mif\u001b[0m \u001b[0mlen\u001b[0m\u001b[1;33m(\u001b[0m\u001b[0mvalue\u001b[0m\u001b[1;33m.\u001b[0m\u001b[0mcolumns\u001b[0m\u001b[1;33m)\u001b[0m \u001b[1;33m!=\u001b[0m \u001b[0mlen\u001b[0m\u001b[1;33m(\u001b[0m\u001b[0mkey\u001b[0m\u001b[1;33m)\u001b[0m\u001b[1;33m:\u001b[0m\u001b[1;33m\u001b[0m\u001b[1;33m\u001b[0m\u001b[0m\n\u001b[1;32m--> 428\u001b[1;33m             \u001b[1;32mraise\u001b[0m \u001b[0mValueError\u001b[0m\u001b[1;33m(\u001b[0m\u001b[1;34m\"Columns must be same length as key\"\u001b[0m\u001b[1;33m)\u001b[0m\u001b[1;33m\u001b[0m\u001b[1;33m\u001b[0m\u001b[0m\n\u001b[0m\u001b[0;32m    429\u001b[0m     \u001b[1;32melse\u001b[0m\u001b[1;33m:\u001b[0m\u001b[1;33m\u001b[0m\u001b[1;33m\u001b[0m\u001b[0m\n\u001b[0;32m    430\u001b[0m         \u001b[1;31m# Missing keys in columns are represented as -1\u001b[0m\u001b[1;33m\u001b[0m\u001b[1;33m\u001b[0m\u001b[0m\n",
      "\u001b[1;31mValueError\u001b[0m: Columns must be same length as key"
     ]
    }
   ],
   "source": []
  },
  {
   "cell_type": "code",
   "execution_count": 8,
   "id": "46f2f740",
   "metadata": {},
   "outputs": [
    {
     "data": {
      "text/html": [
       "<div>\n",
       "<style scoped>\n",
       "    .dataframe tbody tr th:only-of-type {\n",
       "        vertical-align: middle;\n",
       "    }\n",
       "\n",
       "    .dataframe tbody tr th {\n",
       "        vertical-align: top;\n",
       "    }\n",
       "\n",
       "    .dataframe thead th {\n",
       "        text-align: right;\n",
       "    }\n",
       "</style>\n",
       "<table border=\"1\" class=\"dataframe\">\n",
       "  <thead>\n",
       "    <tr style=\"text-align: right;\">\n",
       "      <th></th>\n",
       "      <th>event_time</th>\n",
       "      <th>event_type</th>\n",
       "      <th>product_id</th>\n",
       "      <th>category_id</th>\n",
       "      <th>category_code</th>\n",
       "      <th>brand</th>\n",
       "      <th>price</th>\n",
       "      <th>user_id</th>\n",
       "      <th>user_session</th>\n",
       "      <th>date</th>\n",
       "      <th>hour</th>\n",
       "      <th>day_of_week</th>\n",
       "    </tr>\n",
       "  </thead>\n",
       "  <tbody>\n",
       "    <tr>\n",
       "      <th>0</th>\n",
       "      <td>2019-11-01 00:00:00+00:00</td>\n",
       "      <td>view</td>\n",
       "      <td>1003461</td>\n",
       "      <td>2053013555631882655</td>\n",
       "      <td>electronics.smartphone</td>\n",
       "      <td>xiaomi</td>\n",
       "      <td>489.07</td>\n",
       "      <td>520088904</td>\n",
       "      <td>4d3b30da-a5e4-49df-b1a8-ba5943f1dd33</td>\n",
       "      <td>2019-11-01</td>\n",
       "      <td>0</td>\n",
       "      <td>Friday</td>\n",
       "    </tr>\n",
       "    <tr>\n",
       "      <th>1</th>\n",
       "      <td>2019-11-01 00:00:00+00:00</td>\n",
       "      <td>view</td>\n",
       "      <td>5000088</td>\n",
       "      <td>2053013566100866035</td>\n",
       "      <td>appliances.sewing_machine</td>\n",
       "      <td>janome</td>\n",
       "      <td>293.65</td>\n",
       "      <td>530496790</td>\n",
       "      <td>8e5f4f83-366c-4f70-860e-ca7417414283</td>\n",
       "      <td>2019-11-01</td>\n",
       "      <td>0</td>\n",
       "      <td>Friday</td>\n",
       "    </tr>\n",
       "    <tr>\n",
       "      <th>2</th>\n",
       "      <td>2019-11-01 00:00:01+00:00</td>\n",
       "      <td>view</td>\n",
       "      <td>17302664</td>\n",
       "      <td>2053013553853497655</td>\n",
       "      <td>Unknown.Unknown.Unknown</td>\n",
       "      <td>creed</td>\n",
       "      <td>28.31</td>\n",
       "      <td>561587266</td>\n",
       "      <td>755422e7-9040-477b-9bd2-6a6e8fd97387</td>\n",
       "      <td>2019-11-01</td>\n",
       "      <td>0</td>\n",
       "      <td>Friday</td>\n",
       "    </tr>\n",
       "    <tr>\n",
       "      <th>3</th>\n",
       "      <td>2019-11-01 00:00:01+00:00</td>\n",
       "      <td>view</td>\n",
       "      <td>3601530</td>\n",
       "      <td>2053013563810775923</td>\n",
       "      <td>appliances.kitchen.washer</td>\n",
       "      <td>lg</td>\n",
       "      <td>712.87</td>\n",
       "      <td>518085591</td>\n",
       "      <td>3bfb58cd-7892-48cc-8020-2f17e6de6e7f</td>\n",
       "      <td>2019-11-01</td>\n",
       "      <td>0</td>\n",
       "      <td>Friday</td>\n",
       "    </tr>\n",
       "    <tr>\n",
       "      <th>4</th>\n",
       "      <td>2019-11-01 00:00:01+00:00</td>\n",
       "      <td>view</td>\n",
       "      <td>1004775</td>\n",
       "      <td>2053013555631882655</td>\n",
       "      <td>electronics.smartphone</td>\n",
       "      <td>xiaomi</td>\n",
       "      <td>183.27</td>\n",
       "      <td>558856683</td>\n",
       "      <td>313628f1-68b8-460d-84f6-cec7a8796ef2</td>\n",
       "      <td>2019-11-01</td>\n",
       "      <td>0</td>\n",
       "      <td>Friday</td>\n",
       "    </tr>\n",
       "    <tr>\n",
       "      <th>5</th>\n",
       "      <td>2019-11-01 00:00:01+00:00</td>\n",
       "      <td>view</td>\n",
       "      <td>1306894</td>\n",
       "      <td>2053013558920217191</td>\n",
       "      <td>computers.notebook</td>\n",
       "      <td>hp</td>\n",
       "      <td>360.09</td>\n",
       "      <td>520772685</td>\n",
       "      <td>816a59f3-f5ae-4ccd-9b23-82aa8c23d33c</td>\n",
       "      <td>2019-11-01</td>\n",
       "      <td>0</td>\n",
       "      <td>Friday</td>\n",
       "    </tr>\n",
       "    <tr>\n",
       "      <th>6</th>\n",
       "      <td>2019-11-01 00:00:01+00:00</td>\n",
       "      <td>view</td>\n",
       "      <td>1306421</td>\n",
       "      <td>2053013558920217191</td>\n",
       "      <td>computers.notebook</td>\n",
       "      <td>hp</td>\n",
       "      <td>514.56</td>\n",
       "      <td>514028527</td>\n",
       "      <td>df8184cc-3694-4549-8c8c-6b5171877376</td>\n",
       "      <td>2019-11-01</td>\n",
       "      <td>0</td>\n",
       "      <td>Friday</td>\n",
       "    </tr>\n",
       "    <tr>\n",
       "      <th>7</th>\n",
       "      <td>2019-11-01 00:00:02+00:00</td>\n",
       "      <td>view</td>\n",
       "      <td>15900065</td>\n",
       "      <td>2053013558190408249</td>\n",
       "      <td>Unknown.Unknown.Unknown</td>\n",
       "      <td>rondell</td>\n",
       "      <td>30.86</td>\n",
       "      <td>518574284</td>\n",
       "      <td>5e6ef132-4d7c-4730-8c7f-85aa4082588f</td>\n",
       "      <td>2019-11-01</td>\n",
       "      <td>0</td>\n",
       "      <td>Friday</td>\n",
       "    </tr>\n",
       "    <tr>\n",
       "      <th>8</th>\n",
       "      <td>2019-11-01 00:00:02+00:00</td>\n",
       "      <td>view</td>\n",
       "      <td>12708937</td>\n",
       "      <td>2053013553559896355</td>\n",
       "      <td>Unknown.Unknown.Unknown</td>\n",
       "      <td>michelin</td>\n",
       "      <td>72.72</td>\n",
       "      <td>532364121</td>\n",
       "      <td>0a899268-31eb-46de-898d-09b2da950b24</td>\n",
       "      <td>2019-11-01</td>\n",
       "      <td>0</td>\n",
       "      <td>Friday</td>\n",
       "    </tr>\n",
       "    <tr>\n",
       "      <th>9</th>\n",
       "      <td>2019-11-01 00:00:02+00:00</td>\n",
       "      <td>view</td>\n",
       "      <td>1004258</td>\n",
       "      <td>2053013555631882655</td>\n",
       "      <td>electronics.smartphone</td>\n",
       "      <td>apple</td>\n",
       "      <td>732.07</td>\n",
       "      <td>532647354</td>\n",
       "      <td>d2d3d2c6-631d-489e-9fb5-06f340b85be0</td>\n",
       "      <td>2019-11-01</td>\n",
       "      <td>0</td>\n",
       "      <td>Friday</td>\n",
       "    </tr>\n",
       "  </tbody>\n",
       "</table>\n",
       "</div>"
      ],
      "text/plain": [
       "                 event_time event_type  product_id          category_id  \\\n",
       "0 2019-11-01 00:00:00+00:00       view     1003461  2053013555631882655   \n",
       "1 2019-11-01 00:00:00+00:00       view     5000088  2053013566100866035   \n",
       "2 2019-11-01 00:00:01+00:00       view    17302664  2053013553853497655   \n",
       "3 2019-11-01 00:00:01+00:00       view     3601530  2053013563810775923   \n",
       "4 2019-11-01 00:00:01+00:00       view     1004775  2053013555631882655   \n",
       "5 2019-11-01 00:00:01+00:00       view     1306894  2053013558920217191   \n",
       "6 2019-11-01 00:00:01+00:00       view     1306421  2053013558920217191   \n",
       "7 2019-11-01 00:00:02+00:00       view    15900065  2053013558190408249   \n",
       "8 2019-11-01 00:00:02+00:00       view    12708937  2053013553559896355   \n",
       "9 2019-11-01 00:00:02+00:00       view     1004258  2053013555631882655   \n",
       "\n",
       "               category_code     brand   price    user_id  \\\n",
       "0     electronics.smartphone    xiaomi  489.07  520088904   \n",
       "1  appliances.sewing_machine    janome  293.65  530496790   \n",
       "2    Unknown.Unknown.Unknown     creed   28.31  561587266   \n",
       "3  appliances.kitchen.washer        lg  712.87  518085591   \n",
       "4     electronics.smartphone    xiaomi  183.27  558856683   \n",
       "5         computers.notebook        hp  360.09  520772685   \n",
       "6         computers.notebook        hp  514.56  514028527   \n",
       "7    Unknown.Unknown.Unknown   rondell   30.86  518574284   \n",
       "8    Unknown.Unknown.Unknown  michelin   72.72  532364121   \n",
       "9     electronics.smartphone     apple  732.07  532647354   \n",
       "\n",
       "                           user_session        date  hour day_of_week  \n",
       "0  4d3b30da-a5e4-49df-b1a8-ba5943f1dd33  2019-11-01     0      Friday  \n",
       "1  8e5f4f83-366c-4f70-860e-ca7417414283  2019-11-01     0      Friday  \n",
       "2  755422e7-9040-477b-9bd2-6a6e8fd97387  2019-11-01     0      Friday  \n",
       "3  3bfb58cd-7892-48cc-8020-2f17e6de6e7f  2019-11-01     0      Friday  \n",
       "4  313628f1-68b8-460d-84f6-cec7a8796ef2  2019-11-01     0      Friday  \n",
       "5  816a59f3-f5ae-4ccd-9b23-82aa8c23d33c  2019-11-01     0      Friday  \n",
       "6  df8184cc-3694-4549-8c8c-6b5171877376  2019-11-01     0      Friday  \n",
       "7  5e6ef132-4d7c-4730-8c7f-85aa4082588f  2019-11-01     0      Friday  \n",
       "8  0a899268-31eb-46de-898d-09b2da950b24  2019-11-01     0      Friday  \n",
       "9  d2d3d2c6-631d-489e-9fb5-06f340b85be0  2019-11-01     0      Friday  "
      ]
     },
     "execution_count": 8,
     "metadata": {},
     "output_type": "execute_result"
    }
   ],
   "source": [
    "df.head(10)"
   ]
  },
  {
   "cell_type": "code",
   "execution_count": 9,
   "id": "19825a3c",
   "metadata": {},
   "outputs": [
    {
     "name": "stdout",
     "output_type": "stream",
     "text": [
      "Missing category_code values after imputation: 0\n",
      "\n",
      " Top 10 categories after imputation:\n",
      "\n",
      "Unknown.Unknown.Unknown             316977\n",
      "electronics.smartphone              270434\n",
      "electronics.video.tv                 29459\n",
      "electronics.clocks                   29356\n",
      "computers.notebook                   28166\n",
      "electronics.audio.headphone          27438\n",
      "appliances.kitchen.washer            20684\n",
      "apparel.shoes                        20683\n",
      "appliances.kitchen.refrigerators     19933\n",
      "appliances.environment.vacuum        19220\n",
      "Name: category_code, dtype: int64\n"
     ]
    }
   ],
   "source": [
    "import pandas as pd\n",
    "\n",
    "# Define a custom function to impute missing category_code based on price\n",
    "def impute_category_code(row):\n",
    "    \"\"\"\n",
    "    Impute missing category_code using price-based heuristics.\n",
    "    For non-null category_code, returns the original value.\n",
    "    For nulls, maps price ranges to the most likely categories based on median analysis.\n",
    "    \"\"\"\n",
    "    if pd.notnull(row['category_code']):\n",
    "        return row['category_code']\n",
    "    \n",
    "    price = row['price']\n",
    "    \n",
    "    # Price-based logic (refined using earlier median analysis)\n",
    "    if price > 500:\n",
    "        return 'computers.notebook'\n",
    "    elif 400 < price <= 500:\n",
    "        return 'electronics.camera.photo'\n",
    "    elif 300 < price <= 400:\n",
    "        return 'electronics.video.projector'\n",
    "    elif 200 < price <= 300:\n",
    "        return 'electronics.video.tv'\n",
    "    elif 100 < price <= 200:\n",
    "        return 'electronics.audio.headphone'\n",
    "    elif 50 < price <= 100:\n",
    "        return 'apparel.shoes.sneakers'\n",
    "    elif 20 < price <= 50:\n",
    "        return 'appliances.kitchen.toaster'\n",
    "    elif price <= 20:\n",
    "        return 'stationery.cartrige'\n",
    "    else:\n",
    "        return 'Unknown'  # Fallback in case price is missing or doesn't match\n",
    "\n",
    "# Apply the function to the DataFrame\n",
    "df['category_code'] = df.apply(impute_category_code, axis=1)\n",
    "\n",
    "# Check results\n",
    "print(\"Missing category_code values after imputation:\", df['category_code'].isnull().sum())\n",
    "\n",
    "# Optional: View top 10 categories post-imputation\n",
    "print(\"\\n Top 10 categories after imputation:\\n\")\n",
    "print(df['category_code'].value_counts().head(10))\n"
   ]
  },
  {
   "cell_type": "code",
   "execution_count": 10,
   "id": "84bdb1d0",
   "metadata": {},
   "outputs": [
    {
     "name": "stdout",
     "output_type": "stream",
     "text": [
      "Dataset shape: (1000000, 12)\n",
      "\n",
      " Columns:\n",
      " ['event_time', 'event_type', 'product_id', 'category_id', 'category_code', 'brand', 'price', 'user_id', 'user_session', 'date', 'hour', 'day_of_week']\n",
      "\n",
      " Missing values:\n",
      " event_time            0\n",
      "event_type            0\n",
      "product_id            0\n",
      "category_id           0\n",
      "category_code         0\n",
      "brand            147197\n",
      "price                 0\n",
      "user_id               0\n",
      "user_session          0\n",
      "date                  0\n",
      "hour                  0\n",
      "day_of_week           0\n",
      "dtype: int64\n",
      "\n",
      " Summary statistics:\n",
      "\n",
      "         product_id   category_id           price       user_id  \\\n",
      "count  1.000000e+06  1.000000e+06  1000000.000000  1.000000e+06   \n",
      "mean   1.060944e+07  2.057550e+18      292.181443  5.352224e+08   \n",
      "std    1.200388e+07  1.892062e+16      347.585961  2.014677e+07   \n",
      "min    1.000978e+06  2.053014e+18        0.000000  2.749691e+08   \n",
      "25%    1.005186e+06  2.053014e+18       69.720000  5.159483e+08   \n",
      "50%    4.900340e+06  2.053014e+18      172.180000  5.307922e+08   \n",
      "75%    1.570018e+07  2.053014e+18      361.970000  5.544839e+08   \n",
      "max    6.170001e+07  2.180737e+18     2574.070000  5.665059e+08   \n",
      "\n",
      "                 hour  \n",
      "count  1000000.000000  \n",
      "mean         8.737594  \n",
      "std          3.923496  \n",
      "min          0.000000  \n",
      "25%          6.000000  \n",
      "50%          9.000000  \n",
      "75%         12.000000  \n",
      "max         15.000000  \n"
     ]
    }
   ],
   "source": [
    "print(\"Dataset shape:\", df.shape)\n",
    "print(\"\\n Columns:\\n\", df.columns.tolist())\n",
    "print(\"\\n Missing values:\\n\", df.isnull().sum())\n",
    "\n",
    "print(\"\\n Summary statistics:\\n\")\n",
    "print(df.describe())\n"
   ]
  },
  {
   "cell_type": "code",
   "execution_count": 11,
   "id": "2f7e20a4",
   "metadata": {},
   "outputs": [],
   "source": [
    "# Top N categories and brands to retain\n",
    "top_n = 10\n",
    "\n",
    "# CATEGORY\n",
    "top_categories = df['category_code'].value_counts().nlargest(top_n).index\n",
    "df['category_code'] = df['category_code'].apply(lambda x: x if x in top_categories else 'Other')\n",
    "\n",
    "# BRAND\n",
    "df['brand'].fillna('Unknown', inplace=True)  # First handle nulls\n",
    "top_brands = df['brand'].value_counts().nlargest(top_n).index\n",
    "df['brand'] = df['brand'].apply(lambda x: x if x in top_brands else 'Other')\n"
   ]
  },
  {
   "cell_type": "code",
   "execution_count": 12,
   "id": "89b6b2eb",
   "metadata": {},
   "outputs": [
    {
     "name": "stdout",
     "output_type": "stream",
     "text": [
      " Encoded shape: (1000000, 31)\n",
      " Encoded columns:\n",
      " ['event_time', 'product_id', 'category_id', 'price', 'user_id', 'user_session', 'date', 'hour', 'day_of_week', 'event_type_purchase', 'event_type_view', 'category_code_Unknown.Unknown.Unknown', 'category_code_apparel.shoes', 'category_code_appliances.environment.vacuum', 'category_code_appliances.kitchen.refrigerators', 'category_code_appliances.kitchen.washer', 'category_code_computers.notebook', 'category_code_electronics.audio.headphone', 'category_code_electronics.clocks', 'category_code_electronics.smartphone', 'category_code_electronics.video.tv', 'brand_Unknown', 'brand_apple', 'brand_bosch', 'brand_cordiant', 'brand_huawei', 'brand_lg', 'brand_lucente', 'brand_oppo', 'brand_samsung', 'brand_xiaomi']\n"
     ]
    }
   ],
   "source": [
    "# One-hot encode selected columns\n",
    "df_encoded = pd.get_dummies(df, columns=['event_type', 'category_code', 'brand'], drop_first=True)\n",
    "\n",
    "# Check final shape and column list\n",
    "print(\" Encoded shape:\", df_encoded.shape)\n",
    "print(\" Encoded columns:\\n\", df_encoded.columns.tolist())\n"
   ]
  },
  {
   "cell_type": "code",
   "execution_count": 13,
   "id": "07a8dc24",
   "metadata": {
    "scrolled": true
   },
   "outputs": [
    {
     "name": "stdout",
     "output_type": "stream",
     "text": [
      "Dataset shape: (1000000, 12)\n",
      "\n",
      " Columns:\n",
      " ['event_time', 'event_type', 'product_id', 'category_id', 'category_code', 'brand', 'price', 'user_id', 'user_session', 'date', 'hour', 'day_of_week']\n",
      "\n",
      " Missing values:\n",
      " event_time       0\n",
      "event_type       0\n",
      "product_id       0\n",
      "category_id      0\n",
      "category_code    0\n",
      "brand            0\n",
      "price            0\n",
      "user_id          0\n",
      "user_session     0\n",
      "date             0\n",
      "hour             0\n",
      "day_of_week      0\n",
      "dtype: int64\n",
      "\n",
      " Summary statistics:\n",
      "\n",
      "         product_id   category_id           price       user_id  \\\n",
      "count  1.000000e+06  1.000000e+06  1000000.000000  1.000000e+06   \n",
      "mean   1.060944e+07  2.057550e+18      292.181443  5.352224e+08   \n",
      "std    1.200388e+07  1.892062e+16      347.585961  2.014677e+07   \n",
      "min    1.000978e+06  2.053014e+18        0.000000  2.749691e+08   \n",
      "25%    1.005186e+06  2.053014e+18       69.720000  5.159483e+08   \n",
      "50%    4.900340e+06  2.053014e+18      172.180000  5.307922e+08   \n",
      "75%    1.570018e+07  2.053014e+18      361.970000  5.544839e+08   \n",
      "max    6.170001e+07  2.180737e+18     2574.070000  5.665059e+08   \n",
      "\n",
      "                 hour  \n",
      "count  1000000.000000  \n",
      "mean         8.737594  \n",
      "std          3.923496  \n",
      "min          0.000000  \n",
      "25%          6.000000  \n",
      "50%          9.000000  \n",
      "75%         12.000000  \n",
      "max         15.000000  \n"
     ]
    }
   ],
   "source": [
    "print(\"Dataset shape:\", df.shape)\n",
    "print(\"\\n Columns:\\n\", df.columns.tolist())\n",
    "print(\"\\n Missing values:\\n\", df.isnull().sum())\n",
    "\n",
    "print(\"\\n Summary statistics:\\n\")\n",
    "print(df.describe())"
   ]
  },
  {
   "cell_type": "code",
   "execution_count": 14,
   "id": "bc03963a",
   "metadata": {},
   "outputs": [
    {
     "data": {
      "text/html": [
       "<div>\n",
       "<style scoped>\n",
       "    .dataframe tbody tr th:only-of-type {\n",
       "        vertical-align: middle;\n",
       "    }\n",
       "\n",
       "    .dataframe tbody tr th {\n",
       "        vertical-align: top;\n",
       "    }\n",
       "\n",
       "    .dataframe thead th {\n",
       "        text-align: right;\n",
       "    }\n",
       "</style>\n",
       "<table border=\"1\" class=\"dataframe\">\n",
       "  <thead>\n",
       "    <tr style=\"text-align: right;\">\n",
       "      <th></th>\n",
       "      <th>category_code</th>\n",
       "      <th>main_category</th>\n",
       "      <th>sub_category</th>\n",
       "      <th>product_type</th>\n",
       "    </tr>\n",
       "  </thead>\n",
       "  <tbody>\n",
       "    <tr>\n",
       "      <th>0</th>\n",
       "      <td>electronics.smartphone</td>\n",
       "      <td>electronics</td>\n",
       "      <td>smartphone</td>\n",
       "      <td>Unknown</td>\n",
       "    </tr>\n",
       "    <tr>\n",
       "      <th>1</th>\n",
       "      <td>Other</td>\n",
       "      <td>Other</td>\n",
       "      <td>Unknown</td>\n",
       "      <td>Unknown</td>\n",
       "    </tr>\n",
       "    <tr>\n",
       "      <th>2</th>\n",
       "      <td>Unknown.Unknown.Unknown</td>\n",
       "      <td>Unknown</td>\n",
       "      <td>Unknown</td>\n",
       "      <td>Unknown</td>\n",
       "    </tr>\n",
       "    <tr>\n",
       "      <th>3</th>\n",
       "      <td>appliances.kitchen.washer</td>\n",
       "      <td>appliances</td>\n",
       "      <td>kitchen</td>\n",
       "      <td>washer</td>\n",
       "    </tr>\n",
       "    <tr>\n",
       "      <th>4</th>\n",
       "      <td>electronics.smartphone</td>\n",
       "      <td>electronics</td>\n",
       "      <td>smartphone</td>\n",
       "      <td>Unknown</td>\n",
       "    </tr>\n",
       "    <tr>\n",
       "      <th>5</th>\n",
       "      <td>computers.notebook</td>\n",
       "      <td>computers</td>\n",
       "      <td>notebook</td>\n",
       "      <td>Unknown</td>\n",
       "    </tr>\n",
       "    <tr>\n",
       "      <th>6</th>\n",
       "      <td>computers.notebook</td>\n",
       "      <td>computers</td>\n",
       "      <td>notebook</td>\n",
       "      <td>Unknown</td>\n",
       "    </tr>\n",
       "    <tr>\n",
       "      <th>7</th>\n",
       "      <td>Unknown.Unknown.Unknown</td>\n",
       "      <td>Unknown</td>\n",
       "      <td>Unknown</td>\n",
       "      <td>Unknown</td>\n",
       "    </tr>\n",
       "    <tr>\n",
       "      <th>8</th>\n",
       "      <td>Unknown.Unknown.Unknown</td>\n",
       "      <td>Unknown</td>\n",
       "      <td>Unknown</td>\n",
       "      <td>Unknown</td>\n",
       "    </tr>\n",
       "    <tr>\n",
       "      <th>9</th>\n",
       "      <td>electronics.smartphone</td>\n",
       "      <td>electronics</td>\n",
       "      <td>smartphone</td>\n",
       "      <td>Unknown</td>\n",
       "    </tr>\n",
       "  </tbody>\n",
       "</table>\n",
       "</div>"
      ],
      "text/plain": [
       "               category_code main_category sub_category product_type\n",
       "0     electronics.smartphone   electronics   smartphone      Unknown\n",
       "1                      Other         Other      Unknown      Unknown\n",
       "2    Unknown.Unknown.Unknown       Unknown      Unknown      Unknown\n",
       "3  appliances.kitchen.washer    appliances      kitchen       washer\n",
       "4     electronics.smartphone   electronics   smartphone      Unknown\n",
       "5         computers.notebook     computers     notebook      Unknown\n",
       "6         computers.notebook     computers     notebook      Unknown\n",
       "7    Unknown.Unknown.Unknown       Unknown      Unknown      Unknown\n",
       "8    Unknown.Unknown.Unknown       Unknown      Unknown      Unknown\n",
       "9     electronics.smartphone   electronics   smartphone      Unknown"
      ]
     },
     "execution_count": 14,
     "metadata": {},
     "output_type": "execute_result"
    }
   ],
   "source": [
    "# First, fill nulls in category_code just in case\n",
    "df['category_code'].fillna('Unknown.Unknown.Unknown', inplace=True)\n",
    "\n",
    "# Then split into 3 new columns\n",
    "df[['main_category', 'sub_category', 'product_type']] = df['category_code'].str.split('.', expand=True)\n",
    "\n",
    "# If any category has fewer than 3 levels, fill with \"Unknown\"\n",
    "df['sub_category'].fillna('Unknown', inplace=True)\n",
    "df['product_type'].fillna('Unknown', inplace=True)\n",
    "\n",
    "# Optional: check result\n",
    "df[['category_code', 'main_category', 'sub_category', 'product_type']].head(10)\n"
   ]
  },
  {
   "cell_type": "code",
   "execution_count": 15,
   "id": "bd0e4248",
   "metadata": {},
   "outputs": [
    {
     "data": {
      "text/html": [
       "<div>\n",
       "<style scoped>\n",
       "    .dataframe tbody tr th:only-of-type {\n",
       "        vertical-align: middle;\n",
       "    }\n",
       "\n",
       "    .dataframe tbody tr th {\n",
       "        vertical-align: top;\n",
       "    }\n",
       "\n",
       "    .dataframe thead th {\n",
       "        text-align: right;\n",
       "    }\n",
       "</style>\n",
       "<table border=\"1\" class=\"dataframe\">\n",
       "  <thead>\n",
       "    <tr style=\"text-align: right;\">\n",
       "      <th></th>\n",
       "      <th>event_time</th>\n",
       "      <th>event_type</th>\n",
       "      <th>product_id</th>\n",
       "      <th>category_id</th>\n",
       "      <th>category_code</th>\n",
       "      <th>brand</th>\n",
       "      <th>price</th>\n",
       "      <th>user_id</th>\n",
       "      <th>user_session</th>\n",
       "      <th>date</th>\n",
       "      <th>hour</th>\n",
       "      <th>day_of_week</th>\n",
       "      <th>main_category</th>\n",
       "      <th>sub_category</th>\n",
       "      <th>product_type</th>\n",
       "    </tr>\n",
       "  </thead>\n",
       "  <tbody>\n",
       "    <tr>\n",
       "      <th>0</th>\n",
       "      <td>2019-11-01 00:00:00+00:00</td>\n",
       "      <td>view</td>\n",
       "      <td>1003461</td>\n",
       "      <td>2053013555631882655</td>\n",
       "      <td>electronics.smartphone</td>\n",
       "      <td>xiaomi</td>\n",
       "      <td>489.07</td>\n",
       "      <td>520088904</td>\n",
       "      <td>4d3b30da-a5e4-49df-b1a8-ba5943f1dd33</td>\n",
       "      <td>2019-11-01</td>\n",
       "      <td>0</td>\n",
       "      <td>Friday</td>\n",
       "      <td>electronics</td>\n",
       "      <td>smartphone</td>\n",
       "      <td>Unknown</td>\n",
       "    </tr>\n",
       "    <tr>\n",
       "      <th>1</th>\n",
       "      <td>2019-11-01 00:00:00+00:00</td>\n",
       "      <td>view</td>\n",
       "      <td>5000088</td>\n",
       "      <td>2053013566100866035</td>\n",
       "      <td>Other</td>\n",
       "      <td>Other</td>\n",
       "      <td>293.65</td>\n",
       "      <td>530496790</td>\n",
       "      <td>8e5f4f83-366c-4f70-860e-ca7417414283</td>\n",
       "      <td>2019-11-01</td>\n",
       "      <td>0</td>\n",
       "      <td>Friday</td>\n",
       "      <td>Other</td>\n",
       "      <td>Unknown</td>\n",
       "      <td>Unknown</td>\n",
       "    </tr>\n",
       "    <tr>\n",
       "      <th>2</th>\n",
       "      <td>2019-11-01 00:00:01+00:00</td>\n",
       "      <td>view</td>\n",
       "      <td>17302664</td>\n",
       "      <td>2053013553853497655</td>\n",
       "      <td>Unknown.Unknown.Unknown</td>\n",
       "      <td>Other</td>\n",
       "      <td>28.31</td>\n",
       "      <td>561587266</td>\n",
       "      <td>755422e7-9040-477b-9bd2-6a6e8fd97387</td>\n",
       "      <td>2019-11-01</td>\n",
       "      <td>0</td>\n",
       "      <td>Friday</td>\n",
       "      <td>Unknown</td>\n",
       "      <td>Unknown</td>\n",
       "      <td>Unknown</td>\n",
       "    </tr>\n",
       "    <tr>\n",
       "      <th>3</th>\n",
       "      <td>2019-11-01 00:00:01+00:00</td>\n",
       "      <td>view</td>\n",
       "      <td>3601530</td>\n",
       "      <td>2053013563810775923</td>\n",
       "      <td>appliances.kitchen.washer</td>\n",
       "      <td>lg</td>\n",
       "      <td>712.87</td>\n",
       "      <td>518085591</td>\n",
       "      <td>3bfb58cd-7892-48cc-8020-2f17e6de6e7f</td>\n",
       "      <td>2019-11-01</td>\n",
       "      <td>0</td>\n",
       "      <td>Friday</td>\n",
       "      <td>appliances</td>\n",
       "      <td>kitchen</td>\n",
       "      <td>washer</td>\n",
       "    </tr>\n",
       "    <tr>\n",
       "      <th>4</th>\n",
       "      <td>2019-11-01 00:00:01+00:00</td>\n",
       "      <td>view</td>\n",
       "      <td>1004775</td>\n",
       "      <td>2053013555631882655</td>\n",
       "      <td>electronics.smartphone</td>\n",
       "      <td>xiaomi</td>\n",
       "      <td>183.27</td>\n",
       "      <td>558856683</td>\n",
       "      <td>313628f1-68b8-460d-84f6-cec7a8796ef2</td>\n",
       "      <td>2019-11-01</td>\n",
       "      <td>0</td>\n",
       "      <td>Friday</td>\n",
       "      <td>electronics</td>\n",
       "      <td>smartphone</td>\n",
       "      <td>Unknown</td>\n",
       "    </tr>\n",
       "    <tr>\n",
       "      <th>5</th>\n",
       "      <td>2019-11-01 00:00:01+00:00</td>\n",
       "      <td>view</td>\n",
       "      <td>1306894</td>\n",
       "      <td>2053013558920217191</td>\n",
       "      <td>computers.notebook</td>\n",
       "      <td>Other</td>\n",
       "      <td>360.09</td>\n",
       "      <td>520772685</td>\n",
       "      <td>816a59f3-f5ae-4ccd-9b23-82aa8c23d33c</td>\n",
       "      <td>2019-11-01</td>\n",
       "      <td>0</td>\n",
       "      <td>Friday</td>\n",
       "      <td>computers</td>\n",
       "      <td>notebook</td>\n",
       "      <td>Unknown</td>\n",
       "    </tr>\n",
       "    <tr>\n",
       "      <th>6</th>\n",
       "      <td>2019-11-01 00:00:01+00:00</td>\n",
       "      <td>view</td>\n",
       "      <td>1306421</td>\n",
       "      <td>2053013558920217191</td>\n",
       "      <td>computers.notebook</td>\n",
       "      <td>Other</td>\n",
       "      <td>514.56</td>\n",
       "      <td>514028527</td>\n",
       "      <td>df8184cc-3694-4549-8c8c-6b5171877376</td>\n",
       "      <td>2019-11-01</td>\n",
       "      <td>0</td>\n",
       "      <td>Friday</td>\n",
       "      <td>computers</td>\n",
       "      <td>notebook</td>\n",
       "      <td>Unknown</td>\n",
       "    </tr>\n",
       "    <tr>\n",
       "      <th>7</th>\n",
       "      <td>2019-11-01 00:00:02+00:00</td>\n",
       "      <td>view</td>\n",
       "      <td>15900065</td>\n",
       "      <td>2053013558190408249</td>\n",
       "      <td>Unknown.Unknown.Unknown</td>\n",
       "      <td>Other</td>\n",
       "      <td>30.86</td>\n",
       "      <td>518574284</td>\n",
       "      <td>5e6ef132-4d7c-4730-8c7f-85aa4082588f</td>\n",
       "      <td>2019-11-01</td>\n",
       "      <td>0</td>\n",
       "      <td>Friday</td>\n",
       "      <td>Unknown</td>\n",
       "      <td>Unknown</td>\n",
       "      <td>Unknown</td>\n",
       "    </tr>\n",
       "    <tr>\n",
       "      <th>8</th>\n",
       "      <td>2019-11-01 00:00:02+00:00</td>\n",
       "      <td>view</td>\n",
       "      <td>12708937</td>\n",
       "      <td>2053013553559896355</td>\n",
       "      <td>Unknown.Unknown.Unknown</td>\n",
       "      <td>Other</td>\n",
       "      <td>72.72</td>\n",
       "      <td>532364121</td>\n",
       "      <td>0a899268-31eb-46de-898d-09b2da950b24</td>\n",
       "      <td>2019-11-01</td>\n",
       "      <td>0</td>\n",
       "      <td>Friday</td>\n",
       "      <td>Unknown</td>\n",
       "      <td>Unknown</td>\n",
       "      <td>Unknown</td>\n",
       "    </tr>\n",
       "    <tr>\n",
       "      <th>9</th>\n",
       "      <td>2019-11-01 00:00:02+00:00</td>\n",
       "      <td>view</td>\n",
       "      <td>1004258</td>\n",
       "      <td>2053013555631882655</td>\n",
       "      <td>electronics.smartphone</td>\n",
       "      <td>apple</td>\n",
       "      <td>732.07</td>\n",
       "      <td>532647354</td>\n",
       "      <td>d2d3d2c6-631d-489e-9fb5-06f340b85be0</td>\n",
       "      <td>2019-11-01</td>\n",
       "      <td>0</td>\n",
       "      <td>Friday</td>\n",
       "      <td>electronics</td>\n",
       "      <td>smartphone</td>\n",
       "      <td>Unknown</td>\n",
       "    </tr>\n",
       "  </tbody>\n",
       "</table>\n",
       "</div>"
      ],
      "text/plain": [
       "                 event_time event_type  product_id          category_id  \\\n",
       "0 2019-11-01 00:00:00+00:00       view     1003461  2053013555631882655   \n",
       "1 2019-11-01 00:00:00+00:00       view     5000088  2053013566100866035   \n",
       "2 2019-11-01 00:00:01+00:00       view    17302664  2053013553853497655   \n",
       "3 2019-11-01 00:00:01+00:00       view     3601530  2053013563810775923   \n",
       "4 2019-11-01 00:00:01+00:00       view     1004775  2053013555631882655   \n",
       "5 2019-11-01 00:00:01+00:00       view     1306894  2053013558920217191   \n",
       "6 2019-11-01 00:00:01+00:00       view     1306421  2053013558920217191   \n",
       "7 2019-11-01 00:00:02+00:00       view    15900065  2053013558190408249   \n",
       "8 2019-11-01 00:00:02+00:00       view    12708937  2053013553559896355   \n",
       "9 2019-11-01 00:00:02+00:00       view     1004258  2053013555631882655   \n",
       "\n",
       "               category_code   brand   price    user_id  \\\n",
       "0     electronics.smartphone  xiaomi  489.07  520088904   \n",
       "1                      Other   Other  293.65  530496790   \n",
       "2    Unknown.Unknown.Unknown   Other   28.31  561587266   \n",
       "3  appliances.kitchen.washer      lg  712.87  518085591   \n",
       "4     electronics.smartphone  xiaomi  183.27  558856683   \n",
       "5         computers.notebook   Other  360.09  520772685   \n",
       "6         computers.notebook   Other  514.56  514028527   \n",
       "7    Unknown.Unknown.Unknown   Other   30.86  518574284   \n",
       "8    Unknown.Unknown.Unknown   Other   72.72  532364121   \n",
       "9     electronics.smartphone   apple  732.07  532647354   \n",
       "\n",
       "                           user_session        date  hour day_of_week  \\\n",
       "0  4d3b30da-a5e4-49df-b1a8-ba5943f1dd33  2019-11-01     0      Friday   \n",
       "1  8e5f4f83-366c-4f70-860e-ca7417414283  2019-11-01     0      Friday   \n",
       "2  755422e7-9040-477b-9bd2-6a6e8fd97387  2019-11-01     0      Friday   \n",
       "3  3bfb58cd-7892-48cc-8020-2f17e6de6e7f  2019-11-01     0      Friday   \n",
       "4  313628f1-68b8-460d-84f6-cec7a8796ef2  2019-11-01     0      Friday   \n",
       "5  816a59f3-f5ae-4ccd-9b23-82aa8c23d33c  2019-11-01     0      Friday   \n",
       "6  df8184cc-3694-4549-8c8c-6b5171877376  2019-11-01     0      Friday   \n",
       "7  5e6ef132-4d7c-4730-8c7f-85aa4082588f  2019-11-01     0      Friday   \n",
       "8  0a899268-31eb-46de-898d-09b2da950b24  2019-11-01     0      Friday   \n",
       "9  d2d3d2c6-631d-489e-9fb5-06f340b85be0  2019-11-01     0      Friday   \n",
       "\n",
       "  main_category sub_category product_type  \n",
       "0   electronics   smartphone      Unknown  \n",
       "1         Other      Unknown      Unknown  \n",
       "2       Unknown      Unknown      Unknown  \n",
       "3    appliances      kitchen       washer  \n",
       "4   electronics   smartphone      Unknown  \n",
       "5     computers     notebook      Unknown  \n",
       "6     computers     notebook      Unknown  \n",
       "7       Unknown      Unknown      Unknown  \n",
       "8       Unknown      Unknown      Unknown  \n",
       "9   electronics   smartphone      Unknown  "
      ]
     },
     "execution_count": 15,
     "metadata": {},
     "output_type": "execute_result"
    }
   ],
   "source": [
    "df.head(10)"
   ]
  },
  {
   "cell_type": "markdown",
   "id": "44fc76ef",
   "metadata": {},
   "source": [
    "**Event Type Distribution**"
   ]
  },
  {
   "cell_type": "code",
   "execution_count": 16,
   "id": "58c587fb",
   "metadata": {},
   "outputs": [
    {
     "data": {
      "image/png": "[encoded data removed]",
      "text/plain": [
       "<Figure size 800x400 with 1 Axes>"
      ]
     },
     "metadata": {},
     "output_type": "display_data"
    },
    {
     "name": "stdout",
     "output_type": "stream",
     "text": [
      "\n",
      "% Distribution:\n",
      " view        96.7225\n",
      "purchase     1.7817\n",
      "cart         1.4958\n",
      "Name: event_type, dtype: float64\n"
     ]
    }
   ],
   "source": [
    "import seaborn as sns\n",
    "import matplotlib.pyplot as plt\n",
    "\n",
    "plt.figure(figsize=(8, 4))\n",
    "sns.countplot(data=df, x='event_type', order=df['event_type'].value_counts().index, palette='viridis')\n",
    "plt.title(\"Event Type Distribution\")\n",
    "plt.xlabel(\"Event Type\")\n",
    "plt.ylabel(\"Count\")\n",
    "plt.show()\n",
    "\n",
    "# Optional % values\n",
    "print(\"\\n% Distribution:\\n\", df['event_type'].value_counts(normalize=True) * 100)\n"
   ]
  },
  {
   "cell_type": "markdown",
   "id": "a40ea2aa",
   "metadata": {},
   "source": [
    "**Top Categories & Brands**"
   ]
  },
  {
   "cell_type": "code",
   "execution_count": 17,
   "id": "adbd63b3",
   "metadata": {},
   "outputs": [
    {
     "data": {
      "image/png": "[encoded data removed]",
      "text/plain": [
       "<Figure size 1000x400 with 1 Axes>"
      ]
     },
     "metadata": {},
     "output_type": "display_data"
    },
    {
     "data": {
      "image/png": "[encoded data removed]",
      "text/plain": [
       "<Figure size 1000x400 with 1 Axes>"
      ]
     },
     "metadata": {},
     "output_type": "display_data"
    }
   ],
   "source": [
    "# Top 10 categories\n",
    "plt.figure(figsize=(10, 4))\n",
    "df['main_category'].value_counts().head(10).plot(kind='bar', color='skyblue')\n",
    "plt.title(\"Top Product Categories\")\n",
    "plt.ylabel(\"Count\")\n",
    "plt.xticks(rotation=45)\n",
    "plt.show()\n",
    "\n",
    "# Top 10 brands\n",
    "plt.figure(figsize=(10, 4))\n",
    "df['brand'].value_counts().head(10).plot(kind='bar', color='salmon')\n",
    "plt.title(\"Top 10 Brands\")\n",
    "plt.ylabel(\"Count\")\n",
    "plt.xticks(rotation=45)\n",
    "plt.show()\n"
   ]
  },
  {
   "cell_type": "markdown",
   "id": "53c37a78",
   "metadata": {},
   "source": [
    "**Time-Based Behavior**"
   ]
  },
  {
   "cell_type": "code",
   "execution_count": 18,
   "id": "8189d28c",
   "metadata": {},
   "outputs": [
    {
     "data": {
      "image/png": "[encoded data removed]",
      "text/plain": [
       "<Figure size 1000x400 with 1 Axes>"
      ]
     },
     "metadata": {},
     "output_type": "display_data"
    },
    {
     "data": {
      "image/png": "[encoded data removed]",
      "text/plain": [
       "<Figure size 800x400 with 1 Axes>"
      ]
     },
     "metadata": {},
     "output_type": "display_data"
    }
   ],
   "source": [
    "# Events by hour\n",
    "plt.figure(figsize=(10, 4))\n",
    "sns.countplot(x='hour', data=df, palette='magma', order=sorted(df['hour'].unique()))\n",
    "plt.title(\"Events by Hour of Day\")\n",
    "plt.xlabel(\"Hour\")\n",
    "plt.ylabel(\"Events Count\")\n",
    "plt.show()\n",
    "\n",
    "# Events by day of week\n",
    "plt.figure(figsize=(8, 4))\n",
    "sns.countplot(x='day_of_week', data=df, palette='cool')\n",
    "plt.title(\"Events by Day of Week\")\n",
    "plt.xlabel(\"Day (0 = Monday, 6 = Sunday)\")\n",
    "plt.ylabel(\"Count\")\n",
    "plt.show()\n"
   ]
  },
  {
   "cell_type": "markdown",
   "id": "9b21e8b6",
   "metadata": {},
   "source": [
    "**Price Distribution**"
   ]
  },
  {
   "cell_type": "code",
   "execution_count": 19,
   "id": "baf2848c",
   "metadata": {},
   "outputs": [
    {
     "data": {
      "image/png": "[encoded data removed]",
      "text/plain": [
       "<Figure size 1000x400 with 1 Axes>"
      ]
     },
     "metadata": {},
     "output_type": "display_data"
    }
   ],
   "source": [
    "plt.figure(figsize=(10, 4))\n",
    "sns.histplot(df['price'], bins=100, color='green')\n",
    "plt.title(\"Price Distribution\")\n",
    "plt.xlabel(\"Price\")\n",
    "plt.ylabel(\"Frequency\")\n",
    "plt.xlim(0, 2000)  # optional: cap for better visibility\n",
    "plt.show()\n"
   ]
  },
  {
   "cell_type": "markdown",
   "id": "8209c9ed",
   "metadata": {},
   "source": [
    "**Funnel Breakdown**"
   ]
  },
  {
   "cell_type": "code",
   "execution_count": 20,
   "id": "ddd62355",
   "metadata": {},
   "outputs": [
    {
     "data": {
      "image/png": "[encoded data removed]",
      "text/plain": [
       "<Figure size 800x400 with 1 Axes>"
      ]
     },
     "metadata": {},
     "output_type": "display_data"
    },
    {
     "name": "stdout",
     "output_type": "stream",
     "text": [
      "\n",
      "📉 Funnel % Breakdown:\n",
      " view        96.7225\n",
      "purchase     1.7817\n",
      "cart         1.4958\n",
      "Name: event_type, dtype: float64\n"
     ]
    }
   ],
   "source": [
    "funnel = df['event_type'].value_counts()\n",
    "funnel_percent = funnel / funnel.sum() * 100\n",
    "\n",
    "# Funnel bar chart\n",
    "plt.figure(figsize=(8, 4))\n",
    "sns.barplot(x=funnel.index, y=funnel.values, palette='Blues_d')\n",
    "plt.title(\"User Funnel: View → Cart → Purchase\")\n",
    "plt.ylabel(\"Number of Events\")\n",
    "plt.xlabel(\"Event Type\")\n",
    "plt.show()\n",
    "\n",
    "print(\"\\n📉 Funnel % Breakdown:\\n\", funnel_percent)\n"
   ]
  },
  {
   "cell_type": "markdown",
   "id": "148c0b82",
   "metadata": {},
   "source": [
    "*Drop the Redundant Column*"
   ]
  },
  {
   "cell_type": "code",
   "execution_count": 21,
   "id": "f9e55062",
   "metadata": {},
   "outputs": [
    {
     "name": "stdout",
     "output_type": "stream",
     "text": [
      "Index(['event_time', 'event_type', 'product_id', 'category_id', 'brand',\n",
      "       'price', 'user_id', 'user_session', 'date', 'hour', 'day_of_week',\n",
      "       'main_category', 'sub_category', 'product_type'],\n",
      "      dtype='object')\n"
     ]
    }
   ],
   "source": [
    "df.drop('category_code', axis=1, inplace=True)\n",
    "print(df.columns)"
   ]
  },
  {
   "cell_type": "markdown",
   "id": "33c6eb61",
   "metadata": {},
   "source": [
    "# Feature Engineering"
   ]
  },
  {
   "cell_type": "markdown",
   "id": "c1fc1d96",
   "metadata": {},
   "source": [
    "**Target Variable – is_purchase**"
   ]
  },
  {
   "cell_type": "code",
   "execution_count": 22,
   "id": "1f8eaa39",
   "metadata": {},
   "outputs": [
    {
     "name": "stdout",
     "output_type": "stream",
     "text": [
      "['view' 'cart' 'purchase']\n"
     ]
    }
   ],
   "source": [
    "print(df['event_type'].unique())  #Checking Unique Event Types\n"
   ]
  },
  {
   "cell_type": "code",
   "execution_count": 23,
   "id": "a1efb888",
   "metadata": {},
   "outputs": [],
   "source": [
    "df = pd.get_dummies(df, columns=['event_type'], prefix='event_type') # One-Hot Encode event_type"
   ]
  },
  {
   "cell_type": "code",
   "execution_count": 24,
   "id": "f5af367f",
   "metadata": {},
   "outputs": [],
   "source": [
    "df['is_purchase'] = df['event_type_purchase'].astype(int) "
   ]
  },
  {
   "cell_type": "markdown",
   "id": "894645a6",
   "metadata": {},
   "source": [
    "**Train-Test Split**"
   ]
  },
  {
   "cell_type": "code",
   "execution_count": 25,
   "id": "bbc2aa95",
   "metadata": {},
   "outputs": [
    {
     "name": "stdout",
     "output_type": "stream",
     "text": [
      "Train shape: (800000, 12)\n",
      "Test shape: (200000, 12)\n"
     ]
    }
   ],
   "source": [
    "from sklearn.model_selection import train_test_split\n",
    "\n",
    "# Step 1: Define X and y\n",
    "X = df.drop(['is_purchase', 'event_time', 'user_id', 'user_session', 'date'], axis=1, errors='ignore')\n",
    "y = df['is_purchase']\n",
    "\n",
    "# Step 2: Split\n",
    "X_train, X_test, y_train, y_test = train_test_split(X, y, test_size=0.2, stratify=y, random_state=42)\n",
    "\n",
    "print(\"Train shape:\", X_train.shape)\n",
    "print(\"Test shape:\", X_test.shape)\n"
   ]
  },
  {
   "cell_type": "markdown",
   "id": "40188c31",
   "metadata": {},
   "source": [
    "**Logistic Regression Model (Baseline)**"
   ]
  },
  {
   "cell_type": "code",
   "execution_count": 26,
   "id": "12410110",
   "metadata": {},
   "outputs": [],
   "source": [
    "from sklearn.preprocessing import LabelEncoder\n",
    "\n",
    "# Encode all object columns in the main df\n",
    "label_encoders = {}\n",
    "for col in df.select_dtypes(include='object').columns:\n",
    "    le = LabelEncoder()\n",
    "    df[col] = le.fit_transform(df[col].astype(str))\n",
    "    label_encoders[col] = le  # Save encoder for possible inverse_transform later\n"
   ]
  },
  {
   "cell_type": "code",
   "execution_count": 27,
   "id": "ae1d6d3f",
   "metadata": {},
   "outputs": [],
   "source": [
    "X = df.drop(['is_purchase', 'event_time', 'user_id', 'user_session', 'date'], axis=1, errors='ignore')\n",
    "y = df['is_purchase']"
   ]
  },
  {
   "cell_type": "code",
   "execution_count": 28,
   "id": "6a4adeb0",
   "metadata": {},
   "outputs": [],
   "source": [
    "from sklearn.model_selection import train_test_split\n",
    "\n",
    "X_train, X_test, y_train, y_test = train_test_split(\n",
    "    X, y, test_size=0.2, stratify=y, random_state=42\n",
    ")\n"
   ]
  },
  {
   "cell_type": "markdown",
   "id": "4f76e3a3",
   "metadata": {},
   "source": [
    "**Train Random Forest**"
   ]
  },
  {
   "cell_type": "code",
   "execution_count": 29,
   "id": "6bc1805f",
   "metadata": {},
   "outputs": [
    {
     "name": "stdout",
     "output_type": "stream",
     "text": [
      "[[196437      0]\n",
      " [     0   3563]]\n",
      "              precision    recall  f1-score   support\n",
      "\n",
      "           0       1.00      1.00      1.00    196437\n",
      "           1       1.00      1.00      1.00      3563\n",
      "\n",
      "    accuracy                           1.00    200000\n",
      "   macro avg       1.00      1.00      1.00    200000\n",
      "weighted avg       1.00      1.00      1.00    200000\n",
      "\n"
     ]
    }
   ],
   "source": [
    "from sklearn.ensemble import RandomForestClassifier\n",
    "from sklearn.metrics import classification_report, confusion_matrix\n",
    "\n",
    "rf = RandomForestClassifier(n_estimators=100, random_state=42)\n",
    "rf.fit(X_train, y_train)\n",
    "\n",
    "y_pred_rf = rf.predict(X_test)\n",
    "\n",
    "print(confusion_matrix(y_test, y_pred_rf))\n",
    "print(classification_report(y_test, y_pred_rf))\n"
   ]
  },
  {
   "cell_type": "markdown",
   "id": "b0ee00d5",
   "metadata": {},
   "source": [
    "**XGBoost Classifier**"
   ]
  },
  {
   "cell_type": "code",
   "execution_count": 30,
   "id": "6da69161",
   "metadata": {},
   "outputs": [
    {
     "name": "stdout",
     "output_type": "stream",
     "text": [
      "Requirement already satisfied: xgboost in c:\\users\\arkom\\anaconda3\\lib\\site-packages (2.1.4)\n",
      "Requirement already satisfied: numpy in c:\\users\\arkom\\anaconda3\\lib\\site-packages (from xgboost) (1.21.5)\n",
      "Requirement already satisfied: scipy in c:\\users\\arkom\\anaconda3\\lib\\site-packages (from xgboost) (1.9.1)\n",
      "Note: you may need to restart the kernel to use updated packages.\n"
     ]
    }
   ],
   "source": [
    "pip install xgboost"
   ]
  },
  {
   "cell_type": "code",
   "execution_count": 32,
   "id": "f217f858",
   "metadata": {},
   "outputs": [
    {
     "name": "stderr",
     "output_type": "stream",
     "text": [
      "C:\\Users\\arkom\\anaconda3\\lib\\site-packages\\xgboost\\core.py:158: UserWarning: [10:32:55] WARNING: C:\\buildkite-agent\\builds\\buildkite-windows-cpu-autoscaling-group-i-08cbc0333d8d4aae1-1\\xgboost\\xgboost-ci-windows\\src\\learner.cc:740: \n",
      "Parameters: { \"use_label_encoder\" } are not used.\n",
      "\n",
      "  warnings.warn(smsg, UserWarning)\n"
     ]
    },
    {
     "name": "stdout",
     "output_type": "stream",
     "text": [
      "XGBoost Performance:\n",
      "\n",
      "[[196437      0]\n",
      " [     0   3563]]\n",
      "              precision    recall  f1-score   support\n",
      "\n",
      "           0       1.00      1.00      1.00    196437\n",
      "           1       1.00      1.00      1.00      3563\n",
      "\n",
      "    accuracy                           1.00    200000\n",
      "   macro avg       1.00      1.00      1.00    200000\n",
      "weighted avg       1.00      1.00      1.00    200000\n",
      "\n"
     ]
    }
   ],
   "source": [
    "from xgboost import XGBClassifier\n",
    "from sklearn.metrics import classification_report, confusion_matrix\n",
    "\n",
    "# Instantiate and train\n",
    "xgb = XGBClassifier(use_label_encoder=False, eval_metric='logloss', random_state=42)\n",
    "xgb.fit(X_train, y_train)\n",
    "\n",
    "# Predict\n",
    "y_pred_xgb = xgb.predict(X_test)\n",
    "\n",
    "# Evaluate\n",
    "print(\"XGBoost Performance:\\n\")\n",
    "print(confusion_matrix(y_test, y_pred_xgb))\n",
    "print(classification_report(y_test, y_pred_xgb))\n"
   ]
  },
  {
   "cell_type": "markdown",
   "id": "e73f7e3d",
   "metadata": {},
   "source": [
    "**Logistic Regression**"
   ]
  },
  {
   "cell_type": "code",
   "execution_count": 33,
   "id": "87c5f691",
   "metadata": {},
   "outputs": [],
   "source": [
    "X = df.drop(['is_purchase', 'event_time', 'user_id', 'user_session', 'date'], axis=1, errors='ignore')\n",
    "y = df['is_purchase']\n"
   ]
  },
  {
   "cell_type": "code",
   "execution_count": 34,
   "id": "ae00ce2c",
   "metadata": {},
   "outputs": [],
   "source": [
    "from sklearn.model_selection import train_test_split\n",
    "\n",
    "X_train, X_test, y_train, y_test = train_test_split(\n",
    "    X, y, test_size=0.2, stratify=y, random_state=42\n",
    ")\n"
   ]
  },
  {
   "cell_type": "code",
   "execution_count": 35,
   "id": "64d09c22",
   "metadata": {},
   "outputs": [
    {
     "name": "stderr",
     "output_type": "stream",
     "text": [
      "C:\\Users\\arkom\\anaconda3\\lib\\site-packages\\sklearn\\linear_model\\_logistic.py:814: ConvergenceWarning: lbfgs failed to converge (status=2):\n",
      "ABNORMAL_TERMINATION_IN_LNSRCH.\n",
      "\n",
      "Increase the number of iterations (max_iter) or scale the data as shown in:\n",
      "    https://scikit-learn.org/stable/modules/preprocessing.html\n",
      "Please also refer to the documentation for alternative solver options:\n",
      "    https://scikit-learn.org/stable/modules/linear_model.html#logistic-regression\n",
      "  n_iter_i = _check_optimize_result(\n"
     ]
    }
   ],
   "source": [
    "from sklearn.linear_model import LogisticRegression\n",
    "from sklearn.metrics import classification_report, confusion_matrix\n",
    "\n",
    "logreg = LogisticRegression(max_iter=1000)\n",
    "logreg.fit(X_train, y_train)\n",
    "\n",
    "y_pred_logreg = logreg.predict(X_test)\n"
   ]
  },
  {
   "cell_type": "code",
   "execution_count": 36,
   "id": "54f8d6b0",
   "metadata": {},
   "outputs": [
    {
     "name": "stdout",
     "output_type": "stream",
     "text": [
      "Logistic Regression Performance:\n",
      "\n",
      "[[196437      0]\n",
      " [  3563      0]]\n",
      "              precision    recall  f1-score   support\n",
      "\n",
      "           0       0.98      1.00      0.99    196437\n",
      "           1       0.00      0.00      0.00      3563\n",
      "\n",
      "    accuracy                           0.98    200000\n",
      "   macro avg       0.49      0.50      0.50    200000\n",
      "weighted avg       0.96      0.98      0.97    200000\n",
      "\n"
     ]
    },
    {
     "name": "stderr",
     "output_type": "stream",
     "text": [
      "C:\\Users\\arkom\\anaconda3\\lib\\site-packages\\sklearn\\metrics\\_classification.py:1318: UndefinedMetricWarning: Precision and F-score are ill-defined and being set to 0.0 in labels with no predicted samples. Use `zero_division` parameter to control this behavior.\n",
      "  _warn_prf(average, modifier, msg_start, len(result))\n",
      "C:\\Users\\arkom\\anaconda3\\lib\\site-packages\\sklearn\\metrics\\_classification.py:1318: UndefinedMetricWarning: Precision and F-score are ill-defined and being set to 0.0 in labels with no predicted samples. Use `zero_division` parameter to control this behavior.\n",
      "  _warn_prf(average, modifier, msg_start, len(result))\n",
      "C:\\Users\\arkom\\anaconda3\\lib\\site-packages\\sklearn\\metrics\\_classification.py:1318: UndefinedMetricWarning: Precision and F-score are ill-defined and being set to 0.0 in labels with no predicted samples. Use `zero_division` parameter to control this behavior.\n",
      "  _warn_prf(average, modifier, msg_start, len(result))\n"
     ]
    }
   ],
   "source": [
    "print(\"Logistic Regression Performance:\\n\")\n",
    "print(confusion_matrix(y_test, y_pred_logreg))\n",
    "print(classification_report(y_test, y_pred_logreg))\n"
   ]
  },
  {
   "cell_type": "code",
   "execution_count": 37,
   "id": "bc1cf50a",
   "metadata": {},
   "outputs": [
    {
     "data": {
      "text/plain": [
       "0    0.982185\n",
       "1    0.017815\n",
       "Name: is_purchase, dtype: float64"
      ]
     },
     "execution_count": 37,
     "metadata": {},
     "output_type": "execute_result"
    }
   ],
   "source": [
    "y_test.value_counts(normalize=True)\n"
   ]
  },
  {
   "cell_type": "markdown",
   "id": "bb8fd4e5",
   "metadata": {},
   "source": [
    "**Interpretation:**\n",
    "Model\tPrecision (Class 1)\tRecall (Class 1)\tF1 (Class 1)\tComments\n",
    "Logistic Regression\t0.00\t0.00\t0.00\tIgnores minority class\n",
    "Random Forest\t1.00\t1.00\t1.00\tBest so far\n",
    "XGBoost\t1.00\t1.00\t1.00\tBest so far"
   ]
  },
  {
   "cell_type": "code",
   "execution_count": 38,
   "id": "2c08e5f7",
   "metadata": {},
   "outputs": [
    {
     "data": {
      "text/plain": [
       "LogisticRegression(class_weight='balanced', max_iter=1000)"
      ]
     },
     "execution_count": 38,
     "metadata": {},
     "output_type": "execute_result"
    }
   ],
   "source": [
    "logreg = LogisticRegression(max_iter=1000, class_weight='balanced')\n",
    "logreg.fit(X_train, y_train)\n"
   ]
  },
  {
   "cell_type": "code",
   "execution_count": 39,
   "id": "89b2e6ba",
   "metadata": {},
   "outputs": [
    {
     "name": "stdout",
     "output_type": "stream",
     "text": [
      "Collecting lightgbm\n",
      "  Downloading lightgbm-4.6.0-py3-none-win_amd64.whl (1.5 MB)\n",
      "     ---------------------------------------- 1.5/1.5 MB 4.6 MB/s eta 0:00:00\n",
      "Requirement already satisfied: numpy>=1.17.0 in c:\\users\\arkom\\anaconda3\\lib\\site-packages (from lightgbm) (1.21.5)\n",
      "Requirement already satisfied: scipy in c:\\users\\arkom\\anaconda3\\lib\\site-packages (from lightgbm) (1.9.1)\n",
      "Installing collected packages: lightgbm\n",
      "Successfully installed lightgbm-4.6.0\n",
      "Note: you may need to restart the kernel to use updated packages.\n"
     ]
    }
   ],
   "source": [
    "pip install lightgbm"
   ]
  },
  {
   "cell_type": "code",
   "execution_count": 40,
   "id": "01e5d6ce",
   "metadata": {},
   "outputs": [
    {
     "name": "stdout",
     "output_type": "stream",
     "text": [
      "[LightGBM] [Info] Number of positive: 14254, number of negative: 785746\n",
      "[LightGBM] [Info] Auto-choosing row-wise multi-threading, the overhead of testing was 0.013500 seconds.\n",
      "You can set `force_row_wise=true` to remove the overhead.\n",
      "And if memory is not enough, you can set `force_col_wise=true`.\n",
      "[LightGBM] [Info] Total Bins 806\n",
      "[LightGBM] [Info] Number of data points in the train set: 800000, number of used features: 11\n",
      "[LightGBM] [Info] [binary:BoostFromScore]: pavg=0.017818 -> initscore=-4.009596\n",
      "[LightGBM] [Info] Start training from score -4.009596\n",
      "[LightGBM] [Warning] No further splits with positive gain, best gain: -inf\n",
      "[LightGBM] [Warning] No further splits with positive gain, best gain: -inf\n",
      "[LightGBM] [Warning] No further splits with positive gain, best gain: -inf\n",
      "[LightGBM] [Warning] No further splits with positive gain, best gain: -inf\n",
      "[LightGBM] [Warning] No further splits with positive gain, best gain: -inf\n",
      "[LightGBM] [Warning] No further splits with positive gain, best gain: -inf\n",
      "[LightGBM] [Warning] No further splits with positive gain, best gain: -inf\n",
      "[LightGBM] [Warning] No further splits with positive gain, best gain: -inf\n",
      "[LightGBM] [Warning] No further splits with positive gain, best gain: -inf\n",
      "[LightGBM] [Warning] No further splits with positive gain, best gain: -inf\n",
      "[LightGBM] [Warning] No further splits with positive gain, best gain: -inf\n",
      "[LightGBM] [Warning] No further splits with positive gain, best gain: -inf\n",
      "[LightGBM] [Warning] No further splits with positive gain, best gain: -inf\n",
      "[LightGBM] [Warning] No further splits with positive gain, best gain: -inf\n",
      "[LightGBM] [Warning] No further splits with positive gain, best gain: -inf\n",
      "[LightGBM] [Warning] No further splits with positive gain, best gain: -inf\n",
      "[LightGBM] [Warning] No further splits with positive gain, best gain: -inf\n",
      "[LightGBM] [Warning] No further splits with positive gain, best gain: -inf\n",
      "[LightGBM] [Warning] No further splits with positive gain, best gain: -inf\n",
      "[LightGBM] [Warning] No further splits with positive gain, best gain: -inf\n",
      "[LightGBM] [Warning] No further splits with positive gain, best gain: -inf\n",
      "[LightGBM] [Warning] No further splits with positive gain, best gain: -inf\n",
      "[LightGBM] [Warning] No further splits with positive gain, best gain: -inf\n",
      "[LightGBM] [Warning] No further splits with positive gain, best gain: -inf\n",
      "[LightGBM] [Warning] No further splits with positive gain, best gain: -inf\n",
      "[LightGBM] [Warning] No further splits with positive gain, best gain: -inf\n",
      "[LightGBM] [Warning] No further splits with positive gain, best gain: -inf\n",
      "[LightGBM] [Warning] No further splits with positive gain, best gain: -inf\n",
      "[LightGBM] [Warning] No further splits with positive gain, best gain: -inf\n",
      "[LightGBM] [Warning] No further splits with positive gain, best gain: -inf\n",
      "[LightGBM] [Warning] No further splits with positive gain, best gain: -inf\n",
      "[LightGBM] [Warning] No further splits with positive gain, best gain: -inf\n",
      "[LightGBM] [Warning] No further splits with positive gain, best gain: -inf\n",
      "[LightGBM] [Warning] No further splits with positive gain, best gain: -inf\n",
      "[LightGBM] [Warning] No further splits with positive gain, best gain: -inf\n",
      "[LightGBM] [Warning] No further splits with positive gain, best gain: -inf\n",
      "[LightGBM] [Warning] No further splits with positive gain, best gain: -inf\n",
      "[LightGBM] [Warning] No further splits with positive gain, best gain: -inf\n",
      "[LightGBM] [Warning] No further splits with positive gain, best gain: -inf\n",
      "[LightGBM] [Warning] No further splits with positive gain, best gain: -inf\n",
      "[LightGBM] [Warning] No further splits with positive gain, best gain: -inf\n",
      "[LightGBM] [Warning] No further splits with positive gain, best gain: -inf\n",
      "[LightGBM] [Warning] No further splits with positive gain, best gain: -inf\n",
      "[LightGBM] [Warning] No further splits with positive gain, best gain: -inf\n",
      "[LightGBM] [Warning] No further splits with positive gain, best gain: -inf\n",
      "[LightGBM] [Warning] No further splits with positive gain, best gain: -inf\n",
      "[LightGBM] [Warning] No further splits with positive gain, best gain: -inf\n",
      "[LightGBM] [Warning] No further splits with positive gain, best gain: -inf\n",
      "[LightGBM] [Warning] No further splits with positive gain, best gain: -inf\n",
      "[LightGBM] [Warning] No further splits with positive gain, best gain: -inf\n",
      "[LightGBM] [Warning] No further splits with positive gain, best gain: -inf\n",
      "[LightGBM] [Warning] No further splits with positive gain, best gain: -inf\n",
      "[LightGBM] [Warning] No further splits with positive gain, best gain: -inf\n",
      "[LightGBM] [Warning] No further splits with positive gain, best gain: -inf\n",
      "[LightGBM] [Warning] No further splits with positive gain, best gain: -inf\n",
      "[LightGBM] [Warning] No further splits with positive gain, best gain: -inf\n",
      "[LightGBM] [Warning] No further splits with positive gain, best gain: -inf\n",
      "[LightGBM] [Warning] No further splits with positive gain, best gain: -inf\n",
      "[LightGBM] [Warning] No further splits with positive gain, best gain: -inf\n",
      "[LightGBM] [Warning] No further splits with positive gain, best gain: -inf\n",
      "[LightGBM] [Warning] No further splits with positive gain, best gain: -inf\n",
      "[LightGBM] [Warning] No further splits with positive gain, best gain: -inf\n",
      "[LightGBM] [Warning] No further splits with positive gain, best gain: -inf\n",
      "[LightGBM] [Warning] No further splits with positive gain, best gain: -inf\n",
      "[LightGBM] [Warning] No further splits with positive gain, best gain: -inf\n",
      "[LightGBM] [Warning] No further splits with positive gain, best gain: -inf\n",
      "[LightGBM] [Warning] No further splits with positive gain, best gain: -inf\n",
      "[LightGBM] [Warning] No further splits with positive gain, best gain: -inf\n",
      "[LightGBM] [Warning] No further splits with positive gain, best gain: -inf\n",
      "[LightGBM] [Warning] No further splits with positive gain, best gain: -inf\n",
      "[LightGBM] [Warning] No further splits with positive gain, best gain: -inf\n",
      "[LightGBM] [Warning] No further splits with positive gain, best gain: -inf\n",
      "[LightGBM] [Warning] No further splits with positive gain, best gain: -inf\n",
      "[LightGBM] [Warning] No further splits with positive gain, best gain: -inf\n",
      "[LightGBM] [Warning] No further splits with positive gain, best gain: -inf\n",
      "[LightGBM] [Warning] No further splits with positive gain, best gain: -inf\n",
      "[LightGBM] [Warning] No further splits with positive gain, best gain: -inf\n",
      "[LightGBM] [Warning] No further splits with positive gain, best gain: -inf\n",
      "[LightGBM] [Warning] No further splits with positive gain, best gain: -inf\n",
      "[LightGBM] [Warning] No further splits with positive gain, best gain: -inf\n",
      "[LightGBM] [Warning] No further splits with positive gain, best gain: -inf\n",
      "[LightGBM] [Warning] No further splits with positive gain, best gain: -inf\n",
      "[LightGBM] [Warning] No further splits with positive gain, best gain: -inf\n",
      "[LightGBM] [Warning] No further splits with positive gain, best gain: -inf\n",
      "[LightGBM] [Warning] No further splits with positive gain, best gain: -inf\n",
      "[LightGBM] [Warning] No further splits with positive gain, best gain: -inf\n",
      "[LightGBM] [Warning] No further splits with positive gain, best gain: -inf\n",
      "[LightGBM] [Warning] No further splits with positive gain, best gain: -inf\n",
      "[LightGBM] [Warning] No further splits with positive gain, best gain: -inf\n",
      "[LightGBM] [Warning] No further splits with positive gain, best gain: -inf\n",
      "[LightGBM] [Warning] No further splits with positive gain, best gain: -inf\n",
      "[LightGBM] [Warning] No further splits with positive gain, best gain: -inf\n",
      "[LightGBM] [Warning] No further splits with positive gain, best gain: -inf\n",
      "[LightGBM] [Warning] No further splits with positive gain, best gain: -inf\n",
      "[LightGBM] [Warning] No further splits with positive gain, best gain: -inf\n",
      "[LightGBM] [Warning] No further splits with positive gain, best gain: -inf\n",
      "[LightGBM] [Warning] No further splits with positive gain, best gain: -inf\n",
      "[LightGBM] [Warning] No further splits with positive gain, best gain: -inf\n",
      "[LightGBM] [Warning] No further splits with positive gain, best gain: -inf\n",
      "[LightGBM] [Warning] No further splits with positive gain, best gain: -inf\n",
      "LightGBM Performance:\n",
      "[[196437      0]\n",
      " [     0   3563]]\n",
      "              precision    recall  f1-score   support\n",
      "\n",
      "           0       1.00      1.00      1.00    196437\n",
      "           1       1.00      1.00      1.00      3563\n",
      "\n",
      "    accuracy                           1.00    200000\n",
      "   macro avg       1.00      1.00      1.00    200000\n",
      "weighted avg       1.00      1.00      1.00    200000\n",
      "\n"
     ]
    }
   ],
   "source": [
    "from lightgbm import LGBMClassifier\n",
    "from sklearn.metrics import classification_report, confusion_matrix\n",
    "\n",
    "# Train LightGBM\n",
    "lgb_model = LGBMClassifier(random_state=42)\n",
    "lgb_model.fit(X_train, y_train)\n",
    "\n",
    "# Predict\n",
    "y_pred_lgb = lgb_model.predict(X_test)\n",
    "\n",
    "# Evaluate\n",
    "print(\"LightGBM Performance:\")\n",
    "print(confusion_matrix(y_test, y_pred_lgb))\n",
    "print(classification_report(y_test, y_pred_lgb))\n"
   ]
  },
  {
   "cell_type": "code",
   "execution_count": 41,
   "id": "68457bc0",
   "metadata": {},
   "outputs": [
    {
     "data": {
      "text/html": [
       "<div>\n",
       "<style scoped>\n",
       "    .dataframe tbody tr th:only-of-type {\n",
       "        vertical-align: middle;\n",
       "    }\n",
       "\n",
       "    .dataframe tbody tr th {\n",
       "        vertical-align: top;\n",
       "    }\n",
       "\n",
       "    .dataframe thead th {\n",
       "        text-align: right;\n",
       "    }\n",
       "</style>\n",
       "<table border=\"1\" class=\"dataframe\">\n",
       "  <thead>\n",
       "    <tr style=\"text-align: right;\">\n",
       "      <th></th>\n",
       "      <th>event_time</th>\n",
       "      <th>product_id</th>\n",
       "      <th>category_id</th>\n",
       "      <th>brand</th>\n",
       "      <th>price</th>\n",
       "      <th>user_id</th>\n",
       "      <th>user_session</th>\n",
       "      <th>date</th>\n",
       "      <th>hour</th>\n",
       "      <th>day_of_week</th>\n",
       "      <th>main_category</th>\n",
       "      <th>sub_category</th>\n",
       "      <th>product_type</th>\n",
       "      <th>event_type_cart</th>\n",
       "      <th>event_type_purchase</th>\n",
       "      <th>event_type_view</th>\n",
       "      <th>is_purchase</th>\n",
       "    </tr>\n",
       "  </thead>\n",
       "  <tbody>\n",
       "    <tr>\n",
       "      <th>0</th>\n",
       "      <td>2019-11-01 00:00:00+00:00</td>\n",
       "      <td>1003461</td>\n",
       "      <td>2053013555631882655</td>\n",
       "      <td>10</td>\n",
       "      <td>489.07</td>\n",
       "      <td>520088904</td>\n",
       "      <td>71585</td>\n",
       "      <td>0</td>\n",
       "      <td>0</td>\n",
       "      <td>0</td>\n",
       "      <td>5</td>\n",
       "      <td>7</td>\n",
       "      <td>0</td>\n",
       "      <td>0</td>\n",
       "      <td>0</td>\n",
       "      <td>1</td>\n",
       "      <td>0</td>\n",
       "    </tr>\n",
       "    <tr>\n",
       "      <th>1</th>\n",
       "      <td>2019-11-01 00:00:00+00:00</td>\n",
       "      <td>5000088</td>\n",
       "      <td>2053013566100866035</td>\n",
       "      <td>0</td>\n",
       "      <td>293.65</td>\n",
       "      <td>530496790</td>\n",
       "      <td>131976</td>\n",
       "      <td>0</td>\n",
       "      <td>0</td>\n",
       "      <td>0</td>\n",
       "      <td>0</td>\n",
       "      <td>0</td>\n",
       "      <td>0</td>\n",
       "      <td>0</td>\n",
       "      <td>0</td>\n",
       "      <td>1</td>\n",
       "      <td>0</td>\n",
       "    </tr>\n",
       "    <tr>\n",
       "      <th>2</th>\n",
       "      <td>2019-11-01 00:00:01+00:00</td>\n",
       "      <td>17302664</td>\n",
       "      <td>2053013553853497655</td>\n",
       "      <td>0</td>\n",
       "      <td>28.31</td>\n",
       "      <td>561587266</td>\n",
       "      <td>108791</td>\n",
       "      <td>0</td>\n",
       "      <td>0</td>\n",
       "      <td>0</td>\n",
       "      <td>1</td>\n",
       "      <td>0</td>\n",
       "      <td>0</td>\n",
       "      <td>0</td>\n",
       "      <td>0</td>\n",
       "      <td>1</td>\n",
       "      <td>0</td>\n",
       "    </tr>\n",
       "    <tr>\n",
       "      <th>3</th>\n",
       "      <td>2019-11-01 00:00:01+00:00</td>\n",
       "      <td>3601530</td>\n",
       "      <td>2053013563810775923</td>\n",
       "      <td>6</td>\n",
       "      <td>712.87</td>\n",
       "      <td>518085591</td>\n",
       "      <td>55631</td>\n",
       "      <td>0</td>\n",
       "      <td>0</td>\n",
       "      <td>0</td>\n",
       "      <td>3</td>\n",
       "      <td>4</td>\n",
       "      <td>5</td>\n",
       "      <td>0</td>\n",
       "      <td>0</td>\n",
       "      <td>1</td>\n",
       "      <td>0</td>\n",
       "    </tr>\n",
       "    <tr>\n",
       "      <th>4</th>\n",
       "      <td>2019-11-01 00:00:01+00:00</td>\n",
       "      <td>1004775</td>\n",
       "      <td>2053013555631882655</td>\n",
       "      <td>10</td>\n",
       "      <td>183.27</td>\n",
       "      <td>558856683</td>\n",
       "      <td>45427</td>\n",
       "      <td>0</td>\n",
       "      <td>0</td>\n",
       "      <td>0</td>\n",
       "      <td>5</td>\n",
       "      <td>7</td>\n",
       "      <td>0</td>\n",
       "      <td>0</td>\n",
       "      <td>0</td>\n",
       "      <td>1</td>\n",
       "      <td>0</td>\n",
       "    </tr>\n",
       "    <tr>\n",
       "      <th>5</th>\n",
       "      <td>2019-11-01 00:00:01+00:00</td>\n",
       "      <td>1306894</td>\n",
       "      <td>2053013558920217191</td>\n",
       "      <td>0</td>\n",
       "      <td>360.09</td>\n",
       "      <td>520772685</td>\n",
       "      <td>119931</td>\n",
       "      <td>0</td>\n",
       "      <td>0</td>\n",
       "      <td>0</td>\n",
       "      <td>4</td>\n",
       "      <td>5</td>\n",
       "      <td>0</td>\n",
       "      <td>0</td>\n",
       "      <td>0</td>\n",
       "      <td>1</td>\n",
       "      <td>0</td>\n",
       "    </tr>\n",
       "    <tr>\n",
       "      <th>6</th>\n",
       "      <td>2019-11-01 00:00:01+00:00</td>\n",
       "      <td>1306421</td>\n",
       "      <td>2053013558920217191</td>\n",
       "      <td>0</td>\n",
       "      <td>514.56</td>\n",
       "      <td>514028527</td>\n",
       "      <td>207117</td>\n",
       "      <td>0</td>\n",
       "      <td>0</td>\n",
       "      <td>0</td>\n",
       "      <td>4</td>\n",
       "      <td>5</td>\n",
       "      <td>0</td>\n",
       "      <td>0</td>\n",
       "      <td>0</td>\n",
       "      <td>1</td>\n",
       "      <td>0</td>\n",
       "    </tr>\n",
       "    <tr>\n",
       "      <th>7</th>\n",
       "      <td>2019-11-01 00:00:02+00:00</td>\n",
       "      <td>15900065</td>\n",
       "      <td>2053013558190408249</td>\n",
       "      <td>0</td>\n",
       "      <td>30.86</td>\n",
       "      <td>518574284</td>\n",
       "      <td>87624</td>\n",
       "      <td>0</td>\n",
       "      <td>0</td>\n",
       "      <td>0</td>\n",
       "      <td>1</td>\n",
       "      <td>0</td>\n",
       "      <td>0</td>\n",
       "      <td>0</td>\n",
       "      <td>0</td>\n",
       "      <td>1</td>\n",
       "      <td>0</td>\n",
       "    </tr>\n",
       "    <tr>\n",
       "      <th>8</th>\n",
       "      <td>2019-11-01 00:00:02+00:00</td>\n",
       "      <td>12708937</td>\n",
       "      <td>2053013553559896355</td>\n",
       "      <td>0</td>\n",
       "      <td>72.72</td>\n",
       "      <td>532364121</td>\n",
       "      <td>9753</td>\n",
       "      <td>0</td>\n",
       "      <td>0</td>\n",
       "      <td>0</td>\n",
       "      <td>1</td>\n",
       "      <td>0</td>\n",
       "      <td>0</td>\n",
       "      <td>0</td>\n",
       "      <td>0</td>\n",
       "      <td>1</td>\n",
       "      <td>0</td>\n",
       "    </tr>\n",
       "    <tr>\n",
       "      <th>9</th>\n",
       "      <td>2019-11-01 00:00:02+00:00</td>\n",
       "      <td>1004258</td>\n",
       "      <td>2053013555631882655</td>\n",
       "      <td>2</td>\n",
       "      <td>732.07</td>\n",
       "      <td>532647354</td>\n",
       "      <td>195399</td>\n",
       "      <td>0</td>\n",
       "      <td>0</td>\n",
       "      <td>0</td>\n",
       "      <td>5</td>\n",
       "      <td>7</td>\n",
       "      <td>0</td>\n",
       "      <td>0</td>\n",
       "      <td>0</td>\n",
       "      <td>1</td>\n",
       "      <td>0</td>\n",
       "    </tr>\n",
       "  </tbody>\n",
       "</table>\n",
       "</div>"
      ],
      "text/plain": [
       "                 event_time  product_id          category_id  brand   price  \\\n",
       "0 2019-11-01 00:00:00+00:00     1003461  2053013555631882655     10  489.07   \n",
       "1 2019-11-01 00:00:00+00:00     5000088  2053013566100866035      0  293.65   \n",
       "2 2019-11-01 00:00:01+00:00    17302664  2053013553853497655      0   28.31   \n",
       "3 2019-11-01 00:00:01+00:00     3601530  2053013563810775923      6  712.87   \n",
       "4 2019-11-01 00:00:01+00:00     1004775  2053013555631882655     10  183.27   \n",
       "5 2019-11-01 00:00:01+00:00     1306894  2053013558920217191      0  360.09   \n",
       "6 2019-11-01 00:00:01+00:00     1306421  2053013558920217191      0  514.56   \n",
       "7 2019-11-01 00:00:02+00:00    15900065  2053013558190408249      0   30.86   \n",
       "8 2019-11-01 00:00:02+00:00    12708937  2053013553559896355      0   72.72   \n",
       "9 2019-11-01 00:00:02+00:00     1004258  2053013555631882655      2  732.07   \n",
       "\n",
       "     user_id  user_session  date  hour  day_of_week  main_category  \\\n",
       "0  520088904         71585     0     0            0              5   \n",
       "1  530496790        131976     0     0            0              0   \n",
       "2  561587266        108791     0     0            0              1   \n",
       "3  518085591         55631     0     0            0              3   \n",
       "4  558856683         45427     0     0            0              5   \n",
       "5  520772685        119931     0     0            0              4   \n",
       "6  514028527        207117     0     0            0              4   \n",
       "7  518574284         87624     0     0            0              1   \n",
       "8  532364121          9753     0     0            0              1   \n",
       "9  532647354        195399     0     0            0              5   \n",
       "\n",
       "   sub_category  product_type  event_type_cart  event_type_purchase  \\\n",
       "0             7             0                0                    0   \n",
       "1             0             0                0                    0   \n",
       "2             0             0                0                    0   \n",
       "3             4             5                0                    0   \n",
       "4             7             0                0                    0   \n",
       "5             5             0                0                    0   \n",
       "6             5             0                0                    0   \n",
       "7             0             0                0                    0   \n",
       "8             0             0                0                    0   \n",
       "9             7             0                0                    0   \n",
       "\n",
       "   event_type_view  is_purchase  \n",
       "0                1            0  \n",
       "1                1            0  \n",
       "2                1            0  \n",
       "3                1            0  \n",
       "4                1            0  \n",
       "5                1            0  \n",
       "6                1            0  \n",
       "7                1            0  \n",
       "8                1            0  \n",
       "9                1            0  "
      ]
     },
     "execution_count": 41,
     "metadata": {},
     "output_type": "execute_result"
    }
   ],
   "source": [
    "df.head(10)"
   ]
  },
  {
   "cell_type": "code",
   "execution_count": 42,
   "id": "3e7d3f74",
   "metadata": {},
   "outputs": [],
   "source": [
    "df.to_csv(\"ecommerce_cleaned.csv\", index=False)"
   ]
  },
  {
   "cell_type": "markdown",
   "id": "4945005d",
   "metadata": {},
   "source": [
    "**Model Selection Summary**"
   ]
  },
  {
   "cell_type": "markdown",
   "id": "b06a20cd",
   "metadata": {},
   "source": [
    "We evaluated four classification models to predict purchase behavior based on user actions and product features:\n"
   ]
  },
  {
   "cell_type": "markdown",
   "id": "e53274fa",
   "metadata": {},
   "source": [
    "Logistic Regression:\n",
    "\n",
    "Accuracy: 0.98\t\n",
    "Precision:0.00\t\n",
    "Recall:0.00\n",
    "F1-score:0.00"
   ]
  },
  {
   "cell_type": "markdown",
   "id": "c56588d4",
   "metadata": {},
   "source": [
    "Random Forest:\n",
    "\n",
    "Accuracy:1.00\t\n",
    "Precision:1.00\n",
    "Recall:1.00\t\n",
    "F1-score:1.00"
   ]
  },
  {
   "cell_type": "markdown",
   "id": "cd1f433a",
   "metadata": {},
   "source": [
    "XGBoost\t\n",
    "Accuracy: 1.00\n",
    "Precision:1.00\n",
    "Recall:1.00\n",
    "F1-score:1.00\n",
    "\n",
    "\n",
    "LightGBM:\n",
    "\n",
    "Accuracy: 1.00\n",
    "Precision:1.00\n",
    "Recall:1.00\n",
    "F1-score:1.00"
   ]
  },
  {
   "cell_type": "markdown",
   "id": "aa1d30ba",
   "metadata": {},
   "source": [
    "**Final Model Choice: LightGBM**\n",
    "\n",
    "Why LightGBM?\n",
    "Superior performance: Achieved perfect precision, recall, and accuracy on test data.\n",
    "Speed & efficiency: Faster training time and lower memory usage than Random Forest or XGBoost on large datasets.\n",
    "Built-in handling of missing values and categorical features (if encoded appropriately).\n",
    "Easy feature importance extraction, which is valuable for stakeholder insights."
   ]
  },
  {
   "cell_type": "code",
   "execution_count": 44,
   "id": "4b1a72e8",
   "metadata": {},
   "outputs": [
    {
     "data": {
      "image/png": "[encoded data removed]",
      "text/plain": [
       "<Figure size 1000x600 with 1 Axes>"
      ]
     },
     "metadata": {},
     "output_type": "display_data"
    }
   ],
   "source": [
    "import matplotlib.pyplot as plt\n",
    "import seaborn as sns\n",
    "import pandas as pd\n",
    "\n",
    "# Feature importance\n",
    "importances = lgb_model.feature_importances_\n",
    "features = X.columns\n",
    "importance_df = pd.DataFrame({'Feature': features, 'Importance': importances})\n",
    "importance_df = importance_df.sort_values(by='Importance', ascending=False).head(15)\n",
    "\n",
    "# Plot\n",
    "plt.figure(figsize=(10,6))\n",
    "sns.barplot(x='Importance', y='Feature', data=importance_df)\n",
    "plt.title('Top 15 Important Features - LightGBM')\n",
    "plt.tight_layout()\n",
    "plt.show()\n"
   ]
  },
  {
   "cell_type": "code",
   "execution_count": 45,
   "id": "351a3eeb",
   "metadata": {},
   "outputs": [
    {
     "data": {
      "text/plain": [
       "event_time             datetime64[ns, UTC]\n",
       "product_id                           int64\n",
       "category_id                          int64\n",
       "brand                                int32\n",
       "price                              float64\n",
       "user_id                              int64\n",
       "user_session                         int32\n",
       "date                                 int32\n",
       "hour                                 int64\n",
       "day_of_week                          int32\n",
       "main_category                        int32\n",
       "sub_category                         int32\n",
       "product_type                         int32\n",
       "event_type_cart                      uint8\n",
       "event_type_purchase                  uint8\n",
       "event_type_view                      uint8\n",
       "is_purchase                          int32\n",
       "dtype: object"
      ]
     },
     "execution_count": 45,
     "metadata": {},
     "output_type": "execute_result"
    }
   ],
   "source": [
    "df.dtypes"
   ]
  },
  {
   "cell_type": "code",
   "execution_count": null,
   "id": "a55223e5",
   "metadata": {},
   "outputs": [],
   "source": []
  },
  {
   "cell_type": "code",
   "execution_count": null,
   "id": "e3b67142",
   "metadata": {},
   "outputs": [],
   "source": []
  },
  {
   "cell_type": "code",
   "execution_count": null,
   "id": "ced69def",
   "metadata": {},
   "outputs": [],
   "source": []
  },
  {
   "cell_type": "code",
   "execution_count": null,
   "id": "06d4b4a9",
   "metadata": {},
   "outputs": [],
   "source": []
  },
  {
   "cell_type": "code",
   "execution_count": null,
   "id": "8e131dd9",
   "metadata": {},
   "outputs": [],
   "source": []
  },
  {
   "cell_type": "code",
   "execution_count": null,
   "id": "9eda7174",
   "metadata": {},
   "outputs": [],
   "source": []
  },
  {
   "cell_type": "code",
   "execution_count": null,
   "id": "35fa486f",
   "metadata": {},
   "outputs": [],
   "source": []
  },
  {
   "cell_type": "code",
   "execution_count": null,
   "id": "109b70ca",
   "metadata": {},
   "outputs": [],
   "source": []
  },
  {
   "cell_type": "code",
   "execution_count": null,
   "id": "f0f159e0",
   "metadata": {},
   "outputs": [],
   "source": []
  },
  {
   "cell_type": "code",
   "execution_count": null,
   "id": "6f4d6dfe",
   "metadata": {},
   "outputs": [],
   "source": []
  },
  {
   "cell_type": "code",
   "execution_count": null,
   "id": "5599dfb0",
   "metadata": {},
   "outputs": [],
   "source": []
  },
  {
   "cell_type": "code",
   "execution_count": null,
   "id": "db001459",
   "metadata": {},
   "outputs": [],
   "source": []
  }
 ],
 "metadata": {
  "kernelspec": {
   "display_name": "Python 3 (ipykernel)",
   "language": "python",
   "name": "python3"
  },
  "language_info": {
   "codemirror_mode": {
    "name": "ipython",
    "version": 3
   },
   "file_extension": ".py",
   "mimetype": "text/x-python",
   "name": "python",
   "nbconvert_exporter": "python",
   "pygments_lexer": "ipython3",
   "version": "3.9.13"
  }
 },
 "nbformat": 4,
 "nbformat_minor": 5
}
